{
 "cells": [
  {
   "cell_type": "markdown",
   "metadata": {},
   "source": [
    "<p style=\"font-family: Arial; font-size:1.25em;color:#2462C0; font-style:bold\">\n",
    "Import the libraries we need</p>"
   ]
  },
  {
   "cell_type": "code",
   "execution_count": 33,
   "metadata": {},
   "outputs": [],
   "source": [
    "import pandas as pd\n",
    "import numpy as np\n",
    "import matplotlib.pyplot as plt\n",
    "from sklearn.linear_model import LinearRegression\n",
    "import csv"
   ]
  },
  {
   "cell_type": "markdown",
   "metadata": {},
   "source": [
    "<p style=\"font-family: Arial; font-size:1.25em;color:#2462C0; font-style:bold\">\n",
    "Set the Variables</p>"
   ]
  },
  {
   "cell_type": "code",
   "execution_count": 34,
   "metadata": {},
   "outputs": [],
   "source": [
    "csvPath = r'C:\\Users\\dpery\\Documents\\research\\MMA_TCE_Polymer\\DSC_Data\\csvs\\csvs_edited\\MMA_0-90_TTE_0-10_film_DCM_solvent_Run_1.csv'\n",
    "line1Min = 70\n",
    "line1Max = 95\n",
    "line2Min = 150\n",
    "line2Max = 180\n",
    "line3Min = 225\n",
    "line3Max = 240\n",
    "MMApercent=90\n",
    "TCEpercent=10\n",
    "MMA_Mass_Percent = 83.92857142857143\n",
    "run = \"001\"\n",
    "startingMass = 0\n",
    "MMA_Percent_String = \"90\"\n",
    "TCE_Percent_String = \"10\"\n",
    "\n",
    "\n"
   ]
  },
  {
   "cell_type": "markdown",
   "metadata": {},
   "source": [
    "<p style=\"font-family: Arial; font-size:1.25em;color:#2462C0; font-style:bold\">\n",
    "Read the csv file. We see here that fullData is assigned the DataFrame type. Let's view the top of it with head.</p>"
   ]
  },
  {
   "cell_type": "code",
   "execution_count": 35,
   "metadata": {},
   "outputs": [
    {
     "name": "stdout",
     "output_type": "stream",
     "text": [
      "<class 'pandas.core.frame.DataFrame'>\n"
     ]
    },
    {
     "data": {
      "text/html": [
       "<div>\n",
       "<style scoped>\n",
       "    .dataframe tbody tr th:only-of-type {\n",
       "        vertical-align: middle;\n",
       "    }\n",
       "\n",
       "    .dataframe tbody tr th {\n",
       "        vertical-align: top;\n",
       "    }\n",
       "\n",
       "    .dataframe thead th {\n",
       "        text-align: right;\n",
       "    }\n",
       "</style>\n",
       "<table border=\"1\" class=\"dataframe\">\n",
       "  <thead>\n",
       "    <tr style=\"text-align: right;\">\n",
       "      <th></th>\n",
       "      <th>Time_min</th>\n",
       "      <th>Temp_C</th>\n",
       "      <th>Mass_mg</th>\n",
       "      <th>Heat_Flow_mW</th>\n",
       "    </tr>\n",
       "  </thead>\n",
       "  <tbody>\n",
       "    <tr>\n",
       "      <th>0</th>\n",
       "      <td>0.000556</td>\n",
       "      <td>51.62808</td>\n",
       "      <td>14.49637</td>\n",
       "      <td>16.92322</td>\n",
       "    </tr>\n",
       "    <tr>\n",
       "      <th>1</th>\n",
       "      <td>0.004167</td>\n",
       "      <td>51.61804</td>\n",
       "      <td>14.49631</td>\n",
       "      <td>16.92022</td>\n",
       "    </tr>\n",
       "    <tr>\n",
       "      <th>2</th>\n",
       "      <td>0.012500</td>\n",
       "      <td>51.60783</td>\n",
       "      <td>14.49627</td>\n",
       "      <td>16.91810</td>\n",
       "    </tr>\n",
       "    <tr>\n",
       "      <th>3</th>\n",
       "      <td>0.020833</td>\n",
       "      <td>51.59274</td>\n",
       "      <td>14.49622</td>\n",
       "      <td>16.91543</td>\n",
       "    </tr>\n",
       "    <tr>\n",
       "      <th>4</th>\n",
       "      <td>0.029167</td>\n",
       "      <td>51.57910</td>\n",
       "      <td>14.49624</td>\n",
       "      <td>16.91266</td>\n",
       "    </tr>\n",
       "    <tr>\n",
       "      <th>5</th>\n",
       "      <td>0.037500</td>\n",
       "      <td>51.55950</td>\n",
       "      <td>14.49612</td>\n",
       "      <td>16.91155</td>\n",
       "    </tr>\n",
       "    <tr>\n",
       "      <th>6</th>\n",
       "      <td>0.045833</td>\n",
       "      <td>51.55183</td>\n",
       "      <td>14.49618</td>\n",
       "      <td>16.90848</td>\n",
       "    </tr>\n",
       "    <tr>\n",
       "      <th>7</th>\n",
       "      <td>0.054167</td>\n",
       "      <td>51.54090</td>\n",
       "      <td>14.49606</td>\n",
       "      <td>16.90690</td>\n",
       "    </tr>\n",
       "    <tr>\n",
       "      <th>8</th>\n",
       "      <td>0.062500</td>\n",
       "      <td>51.52854</td>\n",
       "      <td>14.49608</td>\n",
       "      <td>16.90455</td>\n",
       "    </tr>\n",
       "    <tr>\n",
       "      <th>9</th>\n",
       "      <td>0.070833</td>\n",
       "      <td>51.51410</td>\n",
       "      <td>14.49609</td>\n",
       "      <td>16.90369</td>\n",
       "    </tr>\n",
       "    <tr>\n",
       "      <th>10</th>\n",
       "      <td>0.079167</td>\n",
       "      <td>51.50017</td>\n",
       "      <td>14.49611</td>\n",
       "      <td>16.90075</td>\n",
       "    </tr>\n",
       "    <tr>\n",
       "      <th>11</th>\n",
       "      <td>0.087500</td>\n",
       "      <td>51.48362</td>\n",
       "      <td>14.49612</td>\n",
       "      <td>16.89833</td>\n",
       "    </tr>\n",
       "    <tr>\n",
       "      <th>12</th>\n",
       "      <td>0.095833</td>\n",
       "      <td>51.47572</td>\n",
       "      <td>14.49611</td>\n",
       "      <td>16.89308</td>\n",
       "    </tr>\n",
       "    <tr>\n",
       "      <th>13</th>\n",
       "      <td>0.104167</td>\n",
       "      <td>51.45842</td>\n",
       "      <td>14.49608</td>\n",
       "      <td>16.89145</td>\n",
       "    </tr>\n",
       "    <tr>\n",
       "      <th>14</th>\n",
       "      <td>0.112500</td>\n",
       "      <td>51.45032</td>\n",
       "      <td>14.49610</td>\n",
       "      <td>16.88766</td>\n",
       "    </tr>\n",
       "  </tbody>\n",
       "</table>\n",
       "</div>"
      ],
      "text/plain": [
       "    Time_min    Temp_C   Mass_mg  Heat_Flow_mW\n",
       "0   0.000556  51.62808  14.49637      16.92322\n",
       "1   0.004167  51.61804  14.49631      16.92022\n",
       "2   0.012500  51.60783  14.49627      16.91810\n",
       "3   0.020833  51.59274  14.49622      16.91543\n",
       "4   0.029167  51.57910  14.49624      16.91266\n",
       "5   0.037500  51.55950  14.49612      16.91155\n",
       "6   0.045833  51.55183  14.49618      16.90848\n",
       "7   0.054167  51.54090  14.49606      16.90690\n",
       "8   0.062500  51.52854  14.49608      16.90455\n",
       "9   0.070833  51.51410  14.49609      16.90369\n",
       "10  0.079167  51.50017  14.49611      16.90075\n",
       "11  0.087500  51.48362  14.49612      16.89833\n",
       "12  0.095833  51.47572  14.49611      16.89308\n",
       "13  0.104167  51.45842  14.49608      16.89145\n",
       "14  0.112500  51.45032  14.49610      16.88766"
      ]
     },
     "execution_count": 35,
     "metadata": {},
     "output_type": "execute_result"
    }
   ],
   "source": [
    "#Be sure to save the file in Unicode UTF-8 format, or specify the format if you are getting an error here.\n",
    "fullData = pd.read_csv(csvPath, sep = ',', encoding=\"utf-8-sig\")\n",
    "print(type(fullData))\n",
    "fullData.head(15)\n",
    "#fullData"
   ]
  },
  {
   "cell_type": "markdown",
   "metadata": {},
   "source": [
    "<p style=\"font-family: Arial; font-size:1.25em;color:#2462C0; font-style:bold\">\n",
    "Column labels can be viewed with the column command.</p>"
   ]
  },
  {
   "cell_type": "code",
   "execution_count": 36,
   "metadata": {},
   "outputs": [
    {
     "data": {
      "text/plain": [
       "Index(['Time_min', 'Temp_C', 'Mass_mg', 'Heat_Flow_mW'], dtype='object')"
      ]
     },
     "execution_count": 36,
     "metadata": {},
     "output_type": "execute_result"
    }
   ],
   "source": [
    "fullData.columns"
   ]
  },
  {
   "cell_type": "markdown",
   "metadata": {},
   "source": [
    "<p style=\"font-family: Arial; font-size:1.25em;color:#2462C0; font-style:bold\">\n",
    "Observe that the index is automatically assigned from 0 to the end. Here we have 1650 data points.</p>"
   ]
  },
  {
   "cell_type": "code",
   "execution_count": 37,
   "metadata": {},
   "outputs": [
    {
     "data": {
      "text/plain": [
       "RangeIndex(start=0, stop=1650, step=1)"
      ]
     },
     "execution_count": 37,
     "metadata": {},
     "output_type": "execute_result"
    }
   ],
   "source": [
    "fullData.index\n"
   ]
  },
  {
   "cell_type": "markdown",
   "metadata": {},
   "source": [
    "<p style=\"font-family: Arial; font-size:1.25em;color:#2462C0; font-style:bold\">\n",
    "Begin assignment of data for Regression of Line1</p>"
   ]
  },
  {
   "cell_type": "code",
   "execution_count": 38,
   "metadata": {},
   "outputs": [
    {
     "data": {
      "text/plain": [
       "(136, 4)"
      ]
     },
     "execution_count": 38,
     "metadata": {},
     "output_type": "execute_result"
    }
   ],
   "source": [
    "line1Mask = (line1Min < fullData['Temp_C']) & (fullData['Temp_C'] < line1Max )\n",
    "line1 = fullData[line1Mask]\n",
    "line1.shape\n",
    "#line1"
   ]
  },
  {
   "cell_type": "code",
   "execution_count": 39,
   "metadata": {},
   "outputs": [
    {
     "data": {
      "text/plain": [
       "Index(['Time_min', 'Temp_C', 'Mass_mg', 'Heat_Flow_mW'], dtype='object')"
      ]
     },
     "execution_count": 39,
     "metadata": {},
     "output_type": "execute_result"
    }
   ],
   "source": [
    "line1.columns"
   ]
  },
  {
   "cell_type": "code",
   "execution_count": 40,
   "metadata": {},
   "outputs": [],
   "source": [
    "# Create a mask for the temp and mass to apply to the dataset to select the column\n",
    "x_temp_col = ['Temp_C']\n",
    "y_mass_col = ['Mass_mg']"
   ]
  },
  {
   "cell_type": "code",
   "execution_count": 41,
   "metadata": {},
   "outputs": [],
   "source": [
    "# Apply the mask for line 1 X\n",
    "x1_temp = line1[x_temp_col]\n",
    "#x1_temp"
   ]
  },
  {
   "cell_type": "code",
   "execution_count": 42,
   "metadata": {},
   "outputs": [],
   "source": [
    "# Apply the mas for line 1 Y\n",
    "y1_mass = line1[y_mass_col]\n",
    "#y1_mass"
   ]
  },
  {
   "cell_type": "markdown",
   "metadata": {},
   "source": [
    "<p style=\"font-family: Arial; font-size:1.25em;color:#2462C0; font-style:bold\">\n",
    "Begin assignment of data for Regression of Line2</p>"
   ]
  },
  {
   "cell_type": "code",
   "execution_count": 43,
   "metadata": {},
   "outputs": [
    {
     "data": {
      "text/plain": [
       "(178, 4)"
      ]
     },
     "execution_count": 43,
     "metadata": {},
     "output_type": "execute_result"
    }
   ],
   "source": [
    "line2Mask = (line2Min < fullData['Temp_C']) & (fullData['Temp_C'] < line2Max)\n",
    "line2 = fullData[line2Mask]\n",
    "line2.shape\n",
    "#line2"
   ]
  },
  {
   "cell_type": "code",
   "execution_count": 44,
   "metadata": {},
   "outputs": [],
   "source": [
    "# Apply the mask for line 2 X\n",
    "x2_temp = line2[x_temp_col]\n",
    "#x2_temp"
   ]
  },
  {
   "cell_type": "code",
   "execution_count": 45,
   "metadata": {},
   "outputs": [],
   "source": [
    "# Apply the mask for line 2 Y\n",
    "y2_mass = line2[y_mass_col]\n",
    "#y2_mass"
   ]
  },
  {
   "cell_type": "markdown",
   "metadata": {},
   "source": [
    "<p style=\"font-family: Arial; font-size:1.25em;color:#2462C0; font-style:bold\">\n",
    "Begin assignment of data for Regression of Line3</p>"
   ]
  },
  {
   "cell_type": "code",
   "execution_count": 46,
   "metadata": {},
   "outputs": [
    {
     "data": {
      "text/plain": [
       "(87, 4)"
      ]
     },
     "execution_count": 46,
     "metadata": {},
     "output_type": "execute_result"
    }
   ],
   "source": [
    "line3Mask = (line3Min < fullData['Temp_C']) & (fullData['Temp_C'] < line3Max)\n",
    "line3 = fullData[line3Mask]\n",
    "line3.shape\n",
    "#line3"
   ]
  },
  {
   "cell_type": "code",
   "execution_count": 47,
   "metadata": {},
   "outputs": [],
   "source": [
    "# Apply the mask for line 3 X\n",
    "x3_temp = line3[x_temp_col]\n",
    "#x3_temp"
   ]
  },
  {
   "cell_type": "code",
   "execution_count": 48,
   "metadata": {},
   "outputs": [],
   "source": [
    "# Apply the mask for line 3 Y\n",
    "y3_mass = line3[y_mass_col]\n",
    "#y3_mass"
   ]
  },
  {
   "cell_type": "markdown",
   "metadata": {},
   "source": [
    "<p style=\"font-family: Arial; font-size:1.25em;color:#2462C0; font-style:bold\">\n",
    "Begin assignment of data for entire graph</p>"
   ]
  },
  {
   "cell_type": "code",
   "execution_count": 49,
   "metadata": {},
   "outputs": [
    {
     "data": {
      "text/plain": [
       "Mass_mg    14.49637\n",
       "Name: 0, dtype: float64"
      ]
     },
     "execution_count": 49,
     "metadata": {},
     "output_type": "execute_result"
    }
   ],
   "source": [
    "full_x_temp = fullData[x_temp_col]\n",
    "#full_x_temp\n",
    "full_y_mass = fullData[y_mass_col]\n",
    "startingMass = full_y_mass.loc[0]\n",
    "startingMass\n",
    "#full_y_mass"
   ]
  },
  {
   "cell_type": "markdown",
   "metadata": {},
   "source": [
    "<p style=\"font-family: Arial; font-size:1.25em;color:#2462C0; font-style:bold\">\n",
    "Linear Regression for Line 1</p>"
   ]
  },
  {
   "cell_type": "code",
   "execution_count": 50,
   "metadata": {},
   "outputs": [
    {
     "name": "stdout",
     "output_type": "stream",
     "text": [
      "Coefficient (m1): \n",
      " [[-0.00177566]]\n",
      "Intercept: \n",
      " [14.62760218]\n"
     ]
    }
   ],
   "source": [
    "regressor1 = LinearRegression()\n",
    "regressor1.fit(x1_temp, y1_mass)\n",
    "regressor1.score(x1_temp, y1_mass)\n",
    "# Print the coefficient(s)\n",
    "print('Coefficient (m1): \\n', regressor1.coef_)\n",
    "#assign the coefficent to m1 for the slope of line 1\n",
    "m1 = regressor1.coef_\n",
    "# Print the intercept\n",
    "print('Intercept: \\n', regressor1.intercept_)\n",
    "#assign the intercept to b1 for the slope of b1\n",
    "b1 = regressor1.intercept_\n"
   ]
  },
  {
   "cell_type": "code",
   "execution_count": 51,
   "metadata": {
    "scrolled": true
   },
   "outputs": [
    {
     "data": {
      "image/png": "[encoded data removed]",
      "text/plain": [
       "<Figure size 432x288 with 1 Axes>"
      ]
     },
     "metadata": {
      "needs_background": "light"
     },
     "output_type": "display_data"
    }
   ],
   "source": [
    "# Plot Line 1 from data and slope/intercept\n",
    "fig1 = plt.figure()\n",
    "plt.plot(x1_temp, y1_mass, color='blue', linewidth=3, label=\"plot line 1 from data\")\n",
    "fig1.suptitle('Line 1 (First Section) ' + MMA_Percent_String + '_' + TCE_Percent_String , fontsize=20)\n",
    "plt.xlabel('temp (degC)', fontsize=18)\n",
    "plt.ylabel('mass (mg)', fontsize=16)\n",
    "\n",
    "#fit function for line 1. Need to manually add the slope at this time\n",
    "f = lambda x: -0.00177566*x + b1\n",
    "# x values of line to plot\n",
    "x = np.array([line1Min, line1Max])\n",
    "# plot fit\n",
    "plt.plot(x,f(x),lw=2.5, c=\"k\",label=\"line calculated from regression\")\n",
    "\n",
    "fig1.savefig('line1plot' + MMA_Percent_String + TCE_Percent_String + '.jpg' )\n",
    "\n",
    "plt.legend()\n",
    "plt.show()"
   ]
  },
  {
   "cell_type": "markdown",
   "metadata": {},
   "source": [
    "<p style=\"font-family: Arial; font-size:1.25em;color:#2462C0; font-style:bold\">\n",
    "Linear Regression for Line 2</p>"
   ]
  },
  {
   "cell_type": "code",
   "execution_count": 52,
   "metadata": {},
   "outputs": [
    {
     "name": "stdout",
     "output_type": "stream",
     "text": [
      "Coefficient (m2): \n",
      " [[-0.02893973]]\n",
      "Intercept: \n",
      " [17.95501779]\n"
     ]
    }
   ],
   "source": [
    "regressor2 = LinearRegression()\n",
    "regressor2.fit(x2_temp, y2_mass)\n",
    "regressor2.score(x2_temp, y2_mass)\n",
    "# Print the coefficient(s)\n",
    "print('Coefficient (m2): \\n', regressor2.coef_)\n",
    "#assign the coefficent to m2 for the slope of line 2\n",
    "m2 = regressor2.coef_\n",
    "# Print the intercept\n",
    "print('Intercept: \\n', regressor2.intercept_)\n",
    "#assign the intercept to b2 for the slope of b2\n",
    "b2 = regressor2.intercept_"
   ]
  },
  {
   "cell_type": "code",
   "execution_count": 53,
   "metadata": {
    "scrolled": true
   },
   "outputs": [
    {
     "data": {
      "image/png": "[encoded data removed]",
      "text/plain": [
       "<Figure size 432x288 with 1 Axes>"
      ]
     },
     "metadata": {
      "needs_background": "light"
     },
     "output_type": "display_data"
    }
   ],
   "source": [
    "# Plot Line 2 from data and slope/intercept\n",
    "fig2 = plt.figure()\n",
    "plt.plot(x2_temp, y2_mass, color='blue', linewidth=3, label=\"plot line 2 from data\")\n",
    "fig2.suptitle('Line 2 (Second Section) ' + MMA_Percent_String + '_' + TCE_Percent_String , fontsize=20)\n",
    "plt.xlabel('temp (degC)', fontsize=18)\n",
    "plt.ylabel('mass (mg)', fontsize=16)\n",
    "\n",
    "#fit function Need to manually add the slope at this time\n",
    "f = lambda x: -0.02893973*x + b2\n",
    "# x values of line to plot\n",
    "x = np.array([line2Min, line2Max])\n",
    "# plot fit\n",
    "plt.plot(x,f(x),lw=2.5, c=\"k\",label=\"line calculated from regression\")\n",
    "\n",
    "fig2.savefig('line2plot'  + MMA_Percent_String + TCE_Percent_String + '.jpg')\n",
    "\n",
    "plt.legend()\n",
    "plt.show()"
   ]
  },
  {
   "cell_type": "markdown",
   "metadata": {},
   "source": [
    "<p style=\"font-family: Arial; font-size:1.25em;color:#2462C0; font-style:bold\">\n",
    "Linear Regression for Line 3</p>"
   ]
  },
  {
   "cell_type": "code",
   "execution_count": 54,
   "metadata": {},
   "outputs": [
    {
     "name": "stdout",
     "output_type": "stream",
     "text": [
      "Coefficient (m3): \n",
      " [[-0.01594912]]\n",
      "Intercept: \n",
      " [15.49035693]\n"
     ]
    }
   ],
   "source": [
    "regressor3 = LinearRegression()\n",
    "regressor3.fit(x3_temp, y3_mass)\n",
    "regressor3.score(x3_temp, y3_mass)\n",
    "# Print the coefficient(s)\n",
    "print('Coefficient (m3): \\n', regressor3.coef_)\n",
    "#assign the coefficent to m2 for the slope of line 2\n",
    "m3 = regressor3.coef_\n",
    "# Print the intercept\n",
    "print('Intercept: \\n', regressor3.intercept_)\n",
    "#assign the intercept to b2 for the slope of b3\n",
    "b3 = regressor3.intercept_"
   ]
  },
  {
   "cell_type": "code",
   "execution_count": 55,
   "metadata": {},
   "outputs": [
    {
     "data": {
      "image/png": "[encoded data removed]",
      "text/plain": [
       "<Figure size 432x288 with 1 Axes>"
      ]
     },
     "metadata": {
      "needs_background": "light"
     },
     "output_type": "display_data"
    }
   ],
   "source": [
    "# Plot Line 3 from data and slope/intercept\n",
    "fig3 = plt.figure()\n",
    "plt.plot(x3_temp, y3_mass, color='blue', linewidth=3, label=\"plot line 2 from data\")\n",
    "fig3.suptitle('Line 3 (Third Section) ' + MMA_Percent_String + '_' + TCE_Percent_String, fontsize=20)\n",
    "plt.xlabel('temp (degC)', fontsize=18)\n",
    "plt.ylabel('mass (mg)', fontsize=16)\n",
    "\n",
    "#fit function Need to manually add the slope at this time\n",
    "f = lambda x: -0.01594912*x + b3\n",
    "# x values of line to plot\n",
    "x = np.array([line3Min, line3Max])\n",
    "# plot fit\n",
    "plt.plot(x,f(x),lw=2.5, c=\"k\",label=\"line calculated from regression\")\n",
    "\n",
    "fig3.savefig('line3plot'+ MMA_Percent_String + TCE_Percent_String + '.jpg')\n",
    "\n",
    "plt.legend()\n",
    "plt.show()"
   ]
  },
  {
   "cell_type": "markdown",
   "metadata": {},
   "source": [
    "<p style=\"font-family: Arial; font-size:1.25em;color:#2462C0; font-style:bold\">\n",
    "Calculate the intercept between lines 1 and 2</p>"
   ]
  },
  {
   "cell_type": "code",
   "execution_count": 56,
   "metadata": {},
   "outputs": [
    {
     "name": "stdout",
     "output_type": "stream",
     "text": [
      "[[122.49329217]] [[14.41009544]]\n"
     ]
    }
   ],
   "source": [
    "y_mass_i = m1*(b2-b1)/(m1-m2) + b1\n",
    "x_temp_i = (b2-b1)/(m1-m2)\n",
    "print(x_temp_i, y_mass_i)"
   ]
  },
  {
   "cell_type": "markdown",
   "metadata": {},
   "source": [
    "<p style=\"font-family: Arial; font-size:1.25em;color:#2462C0; font-style:bold\">\n",
    "Find the nearest initial mass from the array of masses and get the x and y</p>"
   ]
  },
  {
   "cell_type": "code",
   "execution_count": 57,
   "metadata": {},
   "outputs": [
    {
     "name": "stdout",
     "output_type": "stream",
     "text": [
      "104.2963 14.4103\n"
     ]
    }
   ],
   "source": [
    "y_mass_list = full_y_mass[\"Mass_mg\"].tolist()\n",
    "x_temp_list = full_x_temp[\"Temp_C\"].tolist()\n",
    "\n",
    "idx_smallesti = (np.abs(y_mass_list-y_mass_i)).argmin()\n",
    "real_y_mass_i = y_mass_list[idx_smallesti]\n",
    "real_x_temp_i = x_temp_list[idx_smallesti]\n",
    "\n",
    "\n",
    "print(real_x_temp_i, real_y_mass_i)\n"
   ]
  },
  {
   "cell_type": "code",
   "execution_count": 58,
   "metadata": {},
   "outputs": [],
   "source": [
    "#y_mass_list"
   ]
  },
  {
   "cell_type": "markdown",
   "metadata": {},
   "source": [
    "<p style=\"font-family: Arial; font-size:1.25em;color:#2462C0; font-style:bold\">\n",
    "Calculate the intercept between lines 2 and 3</p>"
   ]
  },
  {
   "cell_type": "code",
   "execution_count": 59,
   "metadata": {},
   "outputs": [
    {
     "name": "stdout",
     "output_type": "stream",
     "text": [
      "[[189.72638694]] [[12.46438808]]\n"
     ]
    }
   ],
   "source": [
    "y_mass_f = m2*(b3-b2)/(m2-m3) + b2\n",
    "x_temp_f = (b3-b2)/(m2-m3)\n",
    "print(x_temp_f, y_mass_f)"
   ]
  },
  {
   "cell_type": "markdown",
   "metadata": {},
   "source": [
    "<p style=\"font-family: Arial; font-size:1.25em;color:#2462C0; font-style:bold\">\n",
    "Find the nearest final mass from the array of masses</p>"
   ]
  },
  {
   "cell_type": "code",
   "execution_count": 60,
   "metadata": {},
   "outputs": [
    {
     "name": "stdout",
     "output_type": "stream",
     "text": [
      "193.9022 12.46313\n"
     ]
    }
   ],
   "source": [
    "#y_mass_list = full_y_mass[\"mass(mg)\"].tolist()\n",
    "#x_temp_list = full_x_temp[\"temp(degC)\"].tolist()\n",
    "\n",
    "idx_smallestf = (np.abs(y_mass_list - y_mass_f)).argmin()\n",
    "real_y_mass_f = y_mass_list[idx_smallestf]\n",
    "real_x_temp_f = x_temp_list[idx_smallestf]\n",
    "\n",
    "\n",
    "print(real_x_temp_f, real_y_mass_f)"
   ]
  },
  {
   "cell_type": "code",
   "execution_count": 61,
   "metadata": {},
   "outputs": [
    {
     "name": "stdout",
     "output_type": "stream",
     "text": [
      "[[-0.00177566]] [[-0.02893973]] [[-0.01594912]]\n"
     ]
    }
   ],
   "source": [
    "print(m1, m2, m3)"
   ]
  },
  {
   "cell_type": "markdown",
   "metadata": {},
   "source": [
    "<p style=\"font-family: Arial; font-size:1.25em;color:#2462C0; font-style:bold\">\n",
    "Everything on one plot</p>"
   ]
  },
  {
   "cell_type": "code",
   "execution_count": 62,
   "metadata": {
    "scrolled": true
   },
   "outputs": [
    {
     "data": {
      "image/png": "[encoded data removed]",
      "text/plain": [
       "<Figure size 432x288 with 1 Axes>"
      ]
     },
     "metadata": {
      "needs_background": "light"
     },
     "output_type": "display_data"
    }
   ],
   "source": [
    "fig4 = plt.figure()\n",
    "fig4.suptitle('All Lines and Full Graph '+ MMA_Percent_String + '_' + TCE_Percent_String, fontsize=20)\n",
    "plt.xlabel('temp (degC)', fontsize=18)\n",
    "plt.ylabel('mass (mg)', fontsize=16)\n",
    "\n",
    "#plot the full function\n",
    "plt.plot(full_x_temp, full_y_mass, color='#ECF0F1', linewidth=3, label=\"Full Plot from data\")\n",
    "\n",
    "#fit function for Line 1. Need to manually add the slope(m1) at this time.\n",
    "f = lambda x: -0.00177566*x + b1\n",
    "# x values of line to plot\n",
    "x = np.array([line1Min, line1Max])\n",
    "# plot fit\n",
    "plt.plot(x,f(x),lw=3, c=\"k\",label=\"Line calculated from regression\")\n",
    "\n",
    "# Plot Line 1 from data\n",
    "plt.plot(x1_temp, y1_mass, color='blue', linewidth=3, label=\"Plot line 1 from data\")\n",
    "\n",
    "#fit function for Line 2. Need to manually add the slope (m2) at this time.\n",
    "f = lambda x: -0.02893973*x + b2\n",
    "# x values of line to plot\n",
    "x = np.array([line2Min, line2Max])\n",
    "# plot fit\n",
    "plt.plot(x,f(x),lw=3, c=\"k\")\n",
    "\n",
    "# Plot Line 2 from data and slope/intercept\n",
    "plt.plot(x2_temp, y2_mass, color='red', linewidth=3, label=\"Plot line 2 from data\")\n",
    "\n",
    "#fit function for Line 3. Need to manually add the slope (m3) at this time.\n",
    "f = lambda x: -0.01594912*x + b3\n",
    "# x values of line to plot\n",
    "x = np.array([line3Min, line3Max])\n",
    "# plot fit\n",
    "plt.plot(x,f(x),lw=3, c=\"k\")\n",
    "\n",
    "# Plot Line 3 from data and slope/intercept\n",
    "plt.plot(x3_temp, y3_mass, color='yellow', linewidth=3, label=\"Plot line 3 from data\")\n",
    "\n",
    "#plot the intercepts\n",
    "\n",
    "plt.plot(x_temp_i, y_mass_i, color='orange', marker = \"o\", label=\"Intercepts\", markersize=5)\n",
    "plt.plot(x_temp_f, y_mass_f, color='orange', marker = \"o\", markersize=5)\n",
    "\n",
    "#plot the intercepts nearest neighbor\n",
    "\n",
    "plt.plot(real_x_temp_i, real_y_mass_i, color='green', marker = \"o\", label=\"Intercept nearest neighbor\", markersize=5)\n",
    "plt.plot(real_x_temp_f, real_y_mass_f, color='green', marker = \"o\", markersize=5)\n",
    "\n",
    "fig4.savefig('lineplot_all' + MMA_Percent_String + TCE_Percent_String + '.jpg')\n",
    "\n",
    "plt.legend(bbox_to_anchor=(0, -0.25, 1, 0), loc=2, ncol=2, mode=\"expand\", borderaxespad=0)\n",
    "\n",
    "#plt.legend()\n",
    "plt.show()\n",
    "\n"
   ]
  },
  {
   "cell_type": "code",
   "execution_count": 64,
   "metadata": {},
   "outputs": [
    {
     "name": "stdout",
     "output_type": "stream",
     "text": [
      "   MMApercent  TCEpercent  MMA_Mass_Percent  Run  startingMass  Mass_i_mg  \\\n",
      "0        90.0        10.0         83.928571  1.0      14.49637    14.4103   \n",
      "\n",
      "   Mass_f_mg     diff  rateOfMassLoss  rateOfMassLossOverPercentMMAbyMass  \n",
      "0   12.46313  1.94717       13.512349                            16.09982  \n"
     ]
    }
   ],
   "source": [
    "diff=(real_y_mass_i - real_y_mass_f)\n",
    "#set MMA%, TCE% at top\n",
    "#MMA_Mass_Percent = 83.92857142857143 Add to top\n",
    "#run = \"001\" #set run num at top\n",
    "rateOfMassLoss = diff/real_y_mass_i*100\n",
    "rateOfMassLossOverPercentMMAbyMass = rateOfMassLoss/MMA_Mass_Percent*100\n",
    "data = [[MMApercent, TCEpercent, MMA_Mass_Percent, run, startingMass, real_y_mass_i, real_y_mass_f, diff, rateOfMassLoss, rateOfMassLossOverPercentMMAbyMass]]\n",
    "MMA_TCE_df = pd.DataFrame(data,columns=['MMApercent','TCEpercent', \"MMA_Mass_Percent\", \"Run\", \"startingMass\", \"Mass_i_mg\", \"Mass_f_mg\", \"diff\", \"rateOfMassLoss\", \"rateOfMassLossOverPercentMMAbyMass\"],dtype=float)\n",
    "print (MMA_TCE_df)\n",
    "#Create a csv file on the first run. Only run this once.\n",
    "#MMA_TCE_df.to_csv(r'C:\\Users\\dpery\\Documents\\research\\MMA_TCE_Polymer\\DSC_Data\\csvs\\MMA_TCE_Analysis.csv')\n",
    "#On the first dataset, set header = True, on subsequent, set header = False\n",
    "with open(r'C:\\Users\\dpery\\Documents\\research\\MMA_TCE_Polymer\\DSC_Data\\csvs\\MMA_TCE_Analysis.csv', 'a') as f:\n",
    "    MMA_TCE_df.to_csv(f, header=False)\n",
    "    "
   ]
  },
  {
   "cell_type": "code",
   "execution_count": 67,
   "metadata": {},
   "outputs": [
    {
     "data": {
      "text/html": [
       "<div>\n",
       "<style scoped>\n",
       "    .dataframe tbody tr th:only-of-type {\n",
       "        vertical-align: middle;\n",
       "    }\n",
       "\n",
       "    .dataframe tbody tr th {\n",
       "        vertical-align: top;\n",
       "    }\n",
       "\n",
       "    .dataframe thead th {\n",
       "        text-align: right;\n",
       "    }\n",
       "</style>\n",
       "<table border=\"1\" class=\"dataframe\">\n",
       "  <thead>\n",
       "    <tr style=\"text-align: right;\">\n",
       "      <th></th>\n",
       "      <th>MMApercent</th>\n",
       "      <th>x_temp_i</th>\n",
       "      <th>y_mass_i</th>\n",
       "      <th>real_x_temp_i</th>\n",
       "      <th>real_y_mass_i</th>\n",
       "      <th>x_temp_f</th>\n",
       "      <th>y_mass_f</th>\n",
       "      <th>real_x_temp_f</th>\n",
       "      <th>real_y_mass_f</th>\n",
       "    </tr>\n",
       "  </thead>\n",
       "  <tbody>\n",
       "    <tr>\n",
       "      <th>0</th>\n",
       "      <td>90.0</td>\n",
       "      <td>122.493292</td>\n",
       "      <td>14.410095</td>\n",
       "      <td>104.2963</td>\n",
       "      <td>14.4103</td>\n",
       "      <td>189.726387</td>\n",
       "      <td>12.464388</td>\n",
       "      <td>193.9022</td>\n",
       "      <td>12.46313</td>\n",
       "    </tr>\n",
       "  </tbody>\n",
       "</table>\n",
       "</div>"
      ],
      "text/plain": [
       "   MMApercent    x_temp_i   y_mass_i  real_x_temp_i  real_y_mass_i  \\\n",
       "0        90.0  122.493292  14.410095       104.2963        14.4103   \n",
       "\n",
       "     x_temp_f   y_mass_f  real_x_temp_f  real_y_mass_f  \n",
       "0  189.726387  12.464388       193.9022       12.46313  "
      ]
     },
     "execution_count": 67,
     "metadata": {},
     "output_type": "execute_result"
    }
   ],
   "source": [
    "data2 = [[MMApercent,x_temp_i, y_mass_i, real_x_temp_i, real_y_mass_i, x_temp_f, y_mass_f, real_x_temp_f, real_y_mass_f]]\n",
    "MMA_TCE_intercepts = pd.DataFrame(data2,columns=['MMApercent','x_temp_i', \"y_mass_i\", \"real_x_temp_i\", \"real_y_mass_i\", \"x_temp_f\", \"y_mass_f\", \"real_x_temp_f\", \"real_y_mass_f\"],dtype=float)\n",
    "with open(r'C:\\Users\\dpery\\Documents\\research\\MMA_TCE_Polymer\\DSC_Data\\csvs\\MMA_TCE_Intercepts.csv', 'a') as f:\n",
    "    MMA_TCE_intercepts.to_csv(f, header=False)\n",
    "\n",
    "MMA_TCE_intercepts"
   ]
  },
  {
   "cell_type": "code",
   "execution_count": null,
   "metadata": {},
   "outputs": [],
   "source": []
  }
 ],
 "metadata": {
  "kernelspec": {
   "display_name": "Python 3",
   "language": "python",
   "name": "python3"
  },
  "language_info": {
   "codemirror_mode": {
    "name": "ipython",
    "version": 3
   },
   "file_extension": ".py",
   "mimetype": "text/x-python",
   "name": "python",
   "nbconvert_exporter": "python",
   "pygments_lexer": "ipython3",
   "version": "3.7.0"
  }
 },
 "nbformat": 4,
 "nbformat_minor": 2
}
