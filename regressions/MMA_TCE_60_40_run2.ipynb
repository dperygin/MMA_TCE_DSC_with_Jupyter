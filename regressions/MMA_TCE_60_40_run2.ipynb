{
 "cells": [
  {
   "cell_type": "markdown",
   "metadata": {},
   "source": [
    "<p style=\"font-family: Arial; font-size:1.25em;color:#2462C0; font-style:bold\">\n",
    "Import the libraries we need</p>"
   ]
  },
  {
   "cell_type": "code",
   "execution_count": 34,
   "metadata": {},
   "outputs": [],
   "source": [
    "import pandas as pd\n",
    "import numpy as np\n",
    "import matplotlib.pyplot as plt\n",
    "from sklearn.linear_model import LinearRegression\n",
    "import csv"
   ]
  },
  {
   "cell_type": "markdown",
   "metadata": {},
   "source": [
    "<p style=\"font-family: Arial; font-size:1.25em;color:#2462C0; font-style:bold\">\n",
    "Set the Variables</p>"
   ]
  },
  {
   "cell_type": "code",
   "execution_count": 60,
   "metadata": {},
   "outputs": [],
   "source": [
    "csvPath = r'C:\\Users\\dpery\\Documents\\research\\MMA_TCE_Polymer\\DSC_Data\\csvs\\csvs_edited\\MMA_0-60_TTE_0-40_film_DCM_solvent001.csv'\n",
    "line1Min = 70\n",
    "line1Max = 95\n",
    "line2Min = 150\n",
    "line2Max = 180\n",
    "line3Min = 225\n",
    "line3Max = 240\n",
    "MMApercent=60\n",
    "TCEpercent=40\n",
    "startingMass = 0\n",
    "MMA_Percent_String = \"60\"\n",
    "TCE_Percent_String = \"40\"\n",
    "\n",
    "\n"
   ]
  },
  {
   "cell_type": "markdown",
   "metadata": {},
   "source": [
    "<p style=\"font-family: Arial; font-size:1.25em;color:#2462C0; font-style:bold\">\n",
    "Read the csv file. We see here that fullData is assigned the DataFrame type. Let's view the top of it with head.</p>"
   ]
  },
  {
   "cell_type": "code",
   "execution_count": 36,
   "metadata": {},
   "outputs": [
    {
     "name": "stdout",
     "output_type": "stream",
     "text": [
      "<class 'pandas.core.frame.DataFrame'>\n"
     ]
    },
    {
     "data": {
      "text/html": [
       "<div>\n",
       "<style scoped>\n",
       "    .dataframe tbody tr th:only-of-type {\n",
       "        vertical-align: middle;\n",
       "    }\n",
       "\n",
       "    .dataframe tbody tr th {\n",
       "        vertical-align: top;\n",
       "    }\n",
       "\n",
       "    .dataframe thead th {\n",
       "        text-align: right;\n",
       "    }\n",
       "</style>\n",
       "<table border=\"1\" class=\"dataframe\">\n",
       "  <thead>\n",
       "    <tr style=\"text-align: right;\">\n",
       "      <th></th>\n",
       "      <th>Time_min</th>\n",
       "      <th>Temp_C</th>\n",
       "      <th>Mass_mg</th>\n",
       "      <th>Heat_Flow_mW</th>\n",
       "    </tr>\n",
       "  </thead>\n",
       "  <tbody>\n",
       "    <tr>\n",
       "      <th>0</th>\n",
       "      <td>0.004167</td>\n",
       "      <td>51.54055</td>\n",
       "      <td>10.11991</td>\n",
       "      <td>14.29190</td>\n",
       "    </tr>\n",
       "    <tr>\n",
       "      <th>1</th>\n",
       "      <td>0.012500</td>\n",
       "      <td>51.52994</td>\n",
       "      <td>10.11974</td>\n",
       "      <td>14.28526</td>\n",
       "    </tr>\n",
       "    <tr>\n",
       "      <th>2</th>\n",
       "      <td>0.020833</td>\n",
       "      <td>51.51726</td>\n",
       "      <td>10.11968</td>\n",
       "      <td>14.27794</td>\n",
       "    </tr>\n",
       "    <tr>\n",
       "      <th>3</th>\n",
       "      <td>0.029167</td>\n",
       "      <td>51.50963</td>\n",
       "      <td>10.11949</td>\n",
       "      <td>14.27087</td>\n",
       "    </tr>\n",
       "    <tr>\n",
       "      <th>4</th>\n",
       "      <td>0.037500</td>\n",
       "      <td>51.49832</td>\n",
       "      <td>10.11943</td>\n",
       "      <td>14.26558</td>\n",
       "    </tr>\n",
       "    <tr>\n",
       "      <th>5</th>\n",
       "      <td>0.045833</td>\n",
       "      <td>51.48950</td>\n",
       "      <td>10.11931</td>\n",
       "      <td>14.25694</td>\n",
       "    </tr>\n",
       "    <tr>\n",
       "      <th>6</th>\n",
       "      <td>0.054167</td>\n",
       "      <td>51.47529</td>\n",
       "      <td>10.11916</td>\n",
       "      <td>14.24984</td>\n",
       "    </tr>\n",
       "    <tr>\n",
       "      <th>7</th>\n",
       "      <td>0.062500</td>\n",
       "      <td>51.46044</td>\n",
       "      <td>10.11904</td>\n",
       "      <td>14.24283</td>\n",
       "    </tr>\n",
       "    <tr>\n",
       "      <th>8</th>\n",
       "      <td>0.070833</td>\n",
       "      <td>51.44875</td>\n",
       "      <td>10.11888</td>\n",
       "      <td>14.23672</td>\n",
       "    </tr>\n",
       "    <tr>\n",
       "      <th>9</th>\n",
       "      <td>0.079167</td>\n",
       "      <td>51.44498</td>\n",
       "      <td>10.11880</td>\n",
       "      <td>14.23024</td>\n",
       "    </tr>\n",
       "    <tr>\n",
       "      <th>10</th>\n",
       "      <td>0.087500</td>\n",
       "      <td>51.43198</td>\n",
       "      <td>10.11863</td>\n",
       "      <td>14.22519</td>\n",
       "    </tr>\n",
       "    <tr>\n",
       "      <th>11</th>\n",
       "      <td>0.095833</td>\n",
       "      <td>51.42094</td>\n",
       "      <td>10.11863</td>\n",
       "      <td>14.21914</td>\n",
       "    </tr>\n",
       "    <tr>\n",
       "      <th>12</th>\n",
       "      <td>0.104167</td>\n",
       "      <td>51.41090</td>\n",
       "      <td>10.11847</td>\n",
       "      <td>14.21352</td>\n",
       "    </tr>\n",
       "    <tr>\n",
       "      <th>13</th>\n",
       "      <td>0.112500</td>\n",
       "      <td>51.40149</td>\n",
       "      <td>10.11845</td>\n",
       "      <td>14.20824</td>\n",
       "    </tr>\n",
       "    <tr>\n",
       "      <th>14</th>\n",
       "      <td>0.120833</td>\n",
       "      <td>51.38860</td>\n",
       "      <td>10.11833</td>\n",
       "      <td>14.20126</td>\n",
       "    </tr>\n",
       "  </tbody>\n",
       "</table>\n",
       "</div>"
      ],
      "text/plain": [
       "    Time_min    Temp_C   Mass_mg  Heat_Flow_mW\n",
       "0   0.004167  51.54055  10.11991      14.29190\n",
       "1   0.012500  51.52994  10.11974      14.28526\n",
       "2   0.020833  51.51726  10.11968      14.27794\n",
       "3   0.029167  51.50963  10.11949      14.27087\n",
       "4   0.037500  51.49832  10.11943      14.26558\n",
       "5   0.045833  51.48950  10.11931      14.25694\n",
       "6   0.054167  51.47529  10.11916      14.24984\n",
       "7   0.062500  51.46044  10.11904      14.24283\n",
       "8   0.070833  51.44875  10.11888      14.23672\n",
       "9   0.079167  51.44498  10.11880      14.23024\n",
       "10  0.087500  51.43198  10.11863      14.22519\n",
       "11  0.095833  51.42094  10.11863      14.21914\n",
       "12  0.104167  51.41090  10.11847      14.21352\n",
       "13  0.112500  51.40149  10.11845      14.20824\n",
       "14  0.120833  51.38860  10.11833      14.20126"
      ]
     },
     "execution_count": 36,
     "metadata": {},
     "output_type": "execute_result"
    }
   ],
   "source": [
    "#Be sure to save the file in Unicode UTF-8 format, or specify the format if you are getting an error here.\n",
    "fullData = pd.read_csv(csvPath, sep = ',', encoding=\"utf-8-sig\")\n",
    "print(type(fullData))\n",
    "fullData.head(15)\n",
    "#fullData"
   ]
  },
  {
   "cell_type": "markdown",
   "metadata": {},
   "source": [
    "<p style=\"font-family: Arial; font-size:1.25em;color:#2462C0; font-style:bold\">\n",
    "Column labels can be viewed with the column command.</p>"
   ]
  },
  {
   "cell_type": "code",
   "execution_count": 37,
   "metadata": {},
   "outputs": [
    {
     "data": {
      "text/plain": [
       "Index(['Time_min', 'Temp_C', 'Mass_mg', 'Heat_Flow_mW'], dtype='object')"
      ]
     },
     "execution_count": 37,
     "metadata": {},
     "output_type": "execute_result"
    }
   ],
   "source": [
    "fullData.columns"
   ]
  },
  {
   "cell_type": "markdown",
   "metadata": {},
   "source": [
    "<p style=\"font-family: Arial; font-size:1.25em;color:#2462C0; font-style:bold\">\n",
    "Observe that the index is automatically assigned from 0 to the end. Here we have 1650 data points.</p>"
   ]
  },
  {
   "cell_type": "code",
   "execution_count": 38,
   "metadata": {},
   "outputs": [
    {
     "data": {
      "text/plain": [
       "RangeIndex(start=0, stop=1649, step=1)"
      ]
     },
     "execution_count": 38,
     "metadata": {},
     "output_type": "execute_result"
    }
   ],
   "source": [
    "fullData.index\n"
   ]
  },
  {
   "cell_type": "markdown",
   "metadata": {},
   "source": [
    "<p style=\"font-family: Arial; font-size:1.25em;color:#2462C0; font-style:bold\">\n",
    "Begin assignment of data for Regression of Line1</p>"
   ]
  },
  {
   "cell_type": "code",
   "execution_count": 39,
   "metadata": {},
   "outputs": [
    {
     "data": {
      "text/plain": [
       "(134, 4)"
      ]
     },
     "execution_count": 39,
     "metadata": {},
     "output_type": "execute_result"
    }
   ],
   "source": [
    "line1Mask = (line1Min < fullData['Temp_C']) & (fullData['Temp_C'] < line1Max )\n",
    "line1 = fullData[line1Mask]\n",
    "line1.shape\n",
    "#line1"
   ]
  },
  {
   "cell_type": "code",
   "execution_count": 40,
   "metadata": {},
   "outputs": [
    {
     "data": {
      "text/plain": [
       "Index(['Time_min', 'Temp_C', 'Mass_mg', 'Heat_Flow_mW'], dtype='object')"
      ]
     },
     "execution_count": 40,
     "metadata": {},
     "output_type": "execute_result"
    }
   ],
   "source": [
    "line1.columns"
   ]
  },
  {
   "cell_type": "code",
   "execution_count": 41,
   "metadata": {},
   "outputs": [],
   "source": [
    "# Create a mask for the temp and mass to apply to the dataset to select the column\n",
    "x_temp_col = ['Temp_C']\n",
    "y_mass_col = ['Mass_mg']"
   ]
  },
  {
   "cell_type": "code",
   "execution_count": 42,
   "metadata": {},
   "outputs": [],
   "source": [
    "# Apply the mask for line 1 X\n",
    "x1_temp = line1[x_temp_col]\n",
    "#x1_temp"
   ]
  },
  {
   "cell_type": "code",
   "execution_count": 43,
   "metadata": {},
   "outputs": [],
   "source": [
    "# Apply the mas for line 1 Y\n",
    "y1_mass = line1[y_mass_col]\n",
    "#y1_mass"
   ]
  },
  {
   "cell_type": "markdown",
   "metadata": {},
   "source": [
    "<p style=\"font-family: Arial; font-size:1.25em;color:#2462C0; font-style:bold\">\n",
    "Begin assignment of data for Regression of Line2</p>"
   ]
  },
  {
   "cell_type": "code",
   "execution_count": 44,
   "metadata": {},
   "outputs": [
    {
     "data": {
      "text/plain": [
       "(177, 4)"
      ]
     },
     "execution_count": 44,
     "metadata": {},
     "output_type": "execute_result"
    }
   ],
   "source": [
    "line2Mask = (line2Min < fullData['Temp_C']) & (fullData['Temp_C'] < line2Max)\n",
    "line2 = fullData[line2Mask]\n",
    "line2.shape\n",
    "#line2"
   ]
  },
  {
   "cell_type": "code",
   "execution_count": 45,
   "metadata": {},
   "outputs": [],
   "source": [
    "# Apply the mask for line 2 X\n",
    "x2_temp = line2[x_temp_col]\n",
    "#x2_temp"
   ]
  },
  {
   "cell_type": "code",
   "execution_count": 46,
   "metadata": {},
   "outputs": [],
   "source": [
    "# Apply the mask for line 2 Y\n",
    "y2_mass = line2[y_mass_col]\n",
    "#y2_mass"
   ]
  },
  {
   "cell_type": "markdown",
   "metadata": {},
   "source": [
    "<p style=\"font-family: Arial; font-size:1.25em;color:#2462C0; font-style:bold\">\n",
    "Begin assignment of data for Regression of Line3</p>"
   ]
  },
  {
   "cell_type": "code",
   "execution_count": 47,
   "metadata": {},
   "outputs": [
    {
     "data": {
      "text/plain": [
       "(87, 4)"
      ]
     },
     "execution_count": 47,
     "metadata": {},
     "output_type": "execute_result"
    }
   ],
   "source": [
    "line3Mask = (line3Min < fullData['Temp_C']) & (fullData['Temp_C'] < line3Max)\n",
    "line3 = fullData[line3Mask]\n",
    "line3.shape\n",
    "#line3"
   ]
  },
  {
   "cell_type": "code",
   "execution_count": 48,
   "metadata": {},
   "outputs": [],
   "source": [
    "# Apply the mask for line 3 X\n",
    "x3_temp = line3[x_temp_col]\n",
    "#x3_temp"
   ]
  },
  {
   "cell_type": "code",
   "execution_count": 49,
   "metadata": {},
   "outputs": [],
   "source": [
    "# Apply the mask for line 3 Y\n",
    "y3_mass = line3[y_mass_col]\n",
    "#y3_mass"
   ]
  },
  {
   "cell_type": "markdown",
   "metadata": {},
   "source": [
    "<p style=\"font-family: Arial; font-size:1.25em;color:#2462C0; font-style:bold\">\n",
    "Begin assignment of data for entire graph</p>"
   ]
  },
  {
   "cell_type": "code",
   "execution_count": 50,
   "metadata": {},
   "outputs": [
    {
     "data": {
      "text/plain": [
       "Mass_mg    10.11991\n",
       "Name: 0, dtype: float64"
      ]
     },
     "execution_count": 50,
     "metadata": {},
     "output_type": "execute_result"
    }
   ],
   "source": [
    "full_x_temp = fullData[x_temp_col]\n",
    "#full_x_temp\n",
    "full_y_mass = fullData[y_mass_col]\n",
    "startingMass = full_y_mass.loc[0]\n",
    "startingMass\n",
    "#full_y_mass"
   ]
  },
  {
   "cell_type": "markdown",
   "metadata": {},
   "source": [
    "<p style=\"font-family: Arial; font-size:1.25em;color:#2462C0; font-style:bold\">\n",
    "Linear Regression for Line 1</p>"
   ]
  },
  {
   "cell_type": "code",
   "execution_count": 51,
   "metadata": {},
   "outputs": [
    {
     "name": "stdout",
     "output_type": "stream",
     "text": [
      "Coefficient (m1): \n",
      " [[-0.00319667]]\n",
      "Intercept: \n",
      " [10.32686891]\n"
     ]
    }
   ],
   "source": [
    "regressor1 = LinearRegression()\n",
    "regressor1.fit(x1_temp, y1_mass)\n",
    "regressor1.score(x1_temp, y1_mass)\n",
    "# Print the coefficient(s)\n",
    "print('Coefficient (m1): \\n', regressor1.coef_)\n",
    "#assign the coefficent to m1 for the slope of line 1\n",
    "m1 = regressor1.coef_\n",
    "# Print the intercept\n",
    "print('Intercept: \\n', regressor1.intercept_)\n",
    "#assign the intercept to b1 for the slope of b1\n",
    "b1 = regressor1.intercept_\n"
   ]
  },
  {
   "cell_type": "code",
   "execution_count": 61,
   "metadata": {
    "scrolled": true
   },
   "outputs": [
    {
     "data": {
      "image/png": "[encoded data removed]",
      "text/plain": [
       "<Figure size 432x288 with 1 Axes>"
      ]
     },
     "metadata": {
      "needs_background": "light"
     },
     "output_type": "display_data"
    }
   ],
   "source": [
    "# Plot Line 1 from data and slope/intercept\n",
    "fig1 = plt.figure()\n",
    "plt.plot(x1_temp, y1_mass, color='blue', linewidth=3, label=\"plot line 1 from data\")\n",
    "fig1.suptitle('Line 1 (First Section) ' + MMA_Percent_String + '_' + TCE_Percent_String , fontsize=20)\n",
    "plt.xlabel('temp (degC)', fontsize=18)\n",
    "plt.ylabel('mass (mg)', fontsize=16)\n",
    "\n",
    "#fit function for line 1. Need to manually add the slope at this time\n",
    "f = lambda x: -0.00319667*x + b1\n",
    "# x values of line to plot\n",
    "x = np.array([line1Min, line1Max])\n",
    "# plot fit\n",
    "plt.plot(x,f(x),lw=2.5, c=\"k\",label=\"line calculated from regression\")\n",
    "\n",
    "fig1.savefig('line1plot' + MMA_Percent_String + TCE_Percent_String + '.jpg' )\n",
    "\n",
    "plt.legend()\n",
    "plt.show()"
   ]
  },
  {
   "cell_type": "markdown",
   "metadata": {},
   "source": [
    "<p style=\"font-family: Arial; font-size:1.25em;color:#2462C0; font-style:bold\">\n",
    "Linear Regression for Line 2</p>"
   ]
  },
  {
   "cell_type": "code",
   "execution_count": 62,
   "metadata": {},
   "outputs": [
    {
     "name": "stdout",
     "output_type": "stream",
     "text": [
      "Coefficient (m2): \n",
      " [[-0.02332203]]\n",
      "Intercept: \n",
      " [12.17804751]\n"
     ]
    }
   ],
   "source": [
    "regressor2 = LinearRegression()\n",
    "regressor2.fit(x2_temp, y2_mass)\n",
    "regressor2.score(x2_temp, y2_mass)\n",
    "# Print the coefficient(s)\n",
    "print('Coefficient (m2): \\n', regressor2.coef_)\n",
    "#assign the coefficent to m2 for the slope of line 2\n",
    "m2 = regressor2.coef_\n",
    "# Print the intercept\n",
    "print('Intercept: \\n', regressor2.intercept_)\n",
    "#assign the intercept to b2 for the slope of b2\n",
    "b2 = regressor2.intercept_"
   ]
  },
  {
   "cell_type": "code",
   "execution_count": 64,
   "metadata": {
    "scrolled": true
   },
   "outputs": [
    {
     "data": {
      "image/png": "[encoded data removed]",
      "text/plain": [
       "<Figure size 432x288 with 1 Axes>"
      ]
     },
     "metadata": {
      "needs_background": "light"
     },
     "output_type": "display_data"
    }
   ],
   "source": [
    "# Plot Line 2 from data and slope/intercept\n",
    "fig2 = plt.figure()\n",
    "plt.plot(x2_temp, y2_mass, color='blue', linewidth=3, label=\"plot line 2 from data\")\n",
    "fig2.suptitle('Line 2 (Second Section) ' + MMA_Percent_String + '_' + TCE_Percent_String , fontsize=20)\n",
    "plt.xlabel('temp (degC)', fontsize=18)\n",
    "plt.ylabel('mass (mg)', fontsize=16)\n",
    "\n",
    "#fit function Need to manually add the slope at this time\n",
    "f = lambda x: -0.02332203*x + b2\n",
    "# x values of line to plot\n",
    "x = np.array([line2Min, line2Max])\n",
    "# plot fit\n",
    "plt.plot(x,f(x),lw=2.5, c=\"k\",label=\"line calculated from regression\")\n",
    "\n",
    "fig2.savefig('line2plot'  + MMA_Percent_String + TCE_Percent_String + '.jpg')\n",
    "\n",
    "plt.legend()\n",
    "plt.show()"
   ]
  },
  {
   "cell_type": "markdown",
   "metadata": {},
   "source": [
    "<p style=\"font-family: Arial; font-size:1.25em;color:#2462C0; font-style:bold\">\n",
    "Linear Regression for Line 3</p>"
   ]
  },
  {
   "cell_type": "code",
   "execution_count": 65,
   "metadata": {},
   "outputs": [
    {
     "name": "stdout",
     "output_type": "stream",
     "text": [
      "Coefficient (m3): \n",
      " [[-0.00553516]]\n",
      "Intercept: \n",
      " [8.82477135]\n"
     ]
    }
   ],
   "source": [
    "regressor3 = LinearRegression()\n",
    "regressor3.fit(x3_temp, y3_mass)\n",
    "regressor3.score(x3_temp, y3_mass)\n",
    "# Print the coefficient(s)\n",
    "print('Coefficient (m3): \\n', regressor3.coef_)\n",
    "#assign the coefficent to m2 for the slope of line 2\n",
    "m3 = regressor3.coef_\n",
    "# Print the intercept\n",
    "print('Intercept: \\n', regressor3.intercept_)\n",
    "#assign the intercept to b2 for the slope of b3\n",
    "b3 = regressor3.intercept_"
   ]
  },
  {
   "cell_type": "code",
   "execution_count": 66,
   "metadata": {},
   "outputs": [
    {
     "data": {
      "image/png": "[encoded data removed]",
      "text/plain": [
       "<Figure size 432x288 with 1 Axes>"
      ]
     },
     "metadata": {
      "needs_background": "light"
     },
     "output_type": "display_data"
    }
   ],
   "source": [
    "# Plot Line 3 from data and slope/intercept\n",
    "fig3 = plt.figure()\n",
    "plt.plot(x3_temp, y3_mass, color='blue', linewidth=3, label=\"plot line 2 from data\")\n",
    "fig3.suptitle('Line 3 (Third Section) ' + MMA_Percent_String + '_' + TCE_Percent_String, fontsize=20)\n",
    "plt.xlabel('temp (degC)', fontsize=18)\n",
    "plt.ylabel('mass (mg)', fontsize=16)\n",
    "\n",
    "#fit function Need to manually add the slope at this time\n",
    "f = lambda x: -0.00553516*x + b3\n",
    "# x values of line to plot\n",
    "x = np.array([line3Min, line3Max])\n",
    "# plot fit\n",
    "plt.plot(x,f(x),lw=2.5, c=\"k\",label=\"line calculated from regression\")\n",
    "\n",
    "fig3.savefig('line3plot'+ MMA_Percent_String + TCE_Percent_String + '.jpg')\n",
    "\n",
    "plt.legend()\n",
    "plt.show()"
   ]
  },
  {
   "cell_type": "markdown",
   "metadata": {},
   "source": [
    "<p style=\"font-family: Arial; font-size:1.25em;color:#2462C0; font-style:bold\">\n",
    "Calculate the intercept between lines 1 and 2</p>"
   ]
  },
  {
   "cell_type": "code",
   "execution_count": 67,
   "metadata": {},
   "outputs": [
    {
     "name": "stdout",
     "output_type": "stream",
     "text": [
      "[[91.98236182]] [[10.03283199]]\n"
     ]
    }
   ],
   "source": [
    "y_mass_i = m1*(b2-b1)/(m1-m2) + b1\n",
    "x_temp_i = (b2-b1)/(m1-m2)\n",
    "print(x_temp_i, y_mass_i)"
   ]
  },
  {
   "cell_type": "markdown",
   "metadata": {},
   "source": [
    "<p style=\"font-family: Arial; font-size:1.25em;color:#2462C0; font-style:bold\">\n",
    "Find the nearest initial mass from the array of masses and get the x and y</p>"
   ]
  },
  {
   "cell_type": "code",
   "execution_count": 68,
   "metadata": {},
   "outputs": [
    {
     "name": "stdout",
     "output_type": "stream",
     "text": [
      "91.47918 10.032910000000001\n"
     ]
    }
   ],
   "source": [
    "y_mass_list = full_y_mass[\"Mass_mg\"].tolist()\n",
    "x_temp_list = full_x_temp[\"Temp_C\"].tolist()\n",
    "\n",
    "idx_smallesti = (np.abs(y_mass_list-y_mass_i)).argmin()\n",
    "real_y_mass_i = y_mass_list[idx_smallesti]\n",
    "real_x_temp_i = x_temp_list[idx_smallesti]\n",
    "\n",
    "\n",
    "print(real_x_temp_i, real_y_mass_i)\n"
   ]
  },
  {
   "cell_type": "code",
   "execution_count": 69,
   "metadata": {},
   "outputs": [],
   "source": [
    "#y_mass_list"
   ]
  },
  {
   "cell_type": "markdown",
   "metadata": {},
   "source": [
    "<p style=\"font-family: Arial; font-size:1.25em;color:#2462C0; font-style:bold\">\n",
    "Calculate the intercept between lines 2 and 3</p>"
   ]
  },
  {
   "cell_type": "code",
   "execution_count": 70,
   "metadata": {},
   "outputs": [
    {
     "name": "stdout",
     "output_type": "stream",
     "text": [
      "[[188.52535362]] [[7.78125331]]\n"
     ]
    }
   ],
   "source": [
    "y_mass_f = m2*(b3-b2)/(m2-m3) + b2\n",
    "x_temp_f = (b3-b2)/(m2-m3)\n",
    "print(x_temp_f, y_mass_f)"
   ]
  },
  {
   "cell_type": "markdown",
   "metadata": {},
   "source": [
    "<p style=\"font-family: Arial; font-size:1.25em;color:#2462C0; font-style:bold\">\n",
    "Find the nearest final mass from the array of masses</p>"
   ]
  },
  {
   "cell_type": "code",
   "execution_count": 71,
   "metadata": {},
   "outputs": [
    {
     "name": "stdout",
     "output_type": "stream",
     "text": [
      "194.8162 7.78118\n"
     ]
    }
   ],
   "source": [
    "#y_mass_list = full_y_mass[\"mass(mg)\"].tolist()\n",
    "#x_temp_list = full_x_temp[\"temp(degC)\"].tolist()\n",
    "\n",
    "idx_smallestf = (np.abs(y_mass_list - y_mass_f)).argmin()\n",
    "real_y_mass_f = y_mass_list[idx_smallestf]\n",
    "real_x_temp_f = x_temp_list[idx_smallestf]\n",
    "\n",
    "\n",
    "print(real_x_temp_f, real_y_mass_f)"
   ]
  },
  {
   "cell_type": "code",
   "execution_count": 72,
   "metadata": {},
   "outputs": [
    {
     "name": "stdout",
     "output_type": "stream",
     "text": [
      "[[-0.00319667]] [[-0.02332203]] [[-0.00553516]]\n"
     ]
    }
   ],
   "source": [
    "print(m1, m2, m3)"
   ]
  },
  {
   "cell_type": "markdown",
   "metadata": {},
   "source": [
    "<p style=\"font-family: Arial; font-size:1.25em;color:#2462C0; font-style:bold\">\n",
    "Everything on one plot</p>"
   ]
  },
  {
   "cell_type": "code",
   "execution_count": 74,
   "metadata": {
    "scrolled": true
   },
   "outputs": [
    {
     "data": {
      "image/png": "[encoded data removed]",
      "text/plain": [
       "<Figure size 432x288 with 1 Axes>"
      ]
     },
     "metadata": {
      "needs_background": "light"
     },
     "output_type": "display_data"
    }
   ],
   "source": [
    "fig4 = plt.figure()\n",
    "fig4.suptitle('All Lines and Full Graph '+ MMA_Percent_String + '_' + TCE_Percent_String, fontsize=20)\n",
    "plt.xlabel('temp (degC)', fontsize=18)\n",
    "plt.ylabel('mass (mg)', fontsize=16)\n",
    "\n",
    "#plot the full function\n",
    "plt.plot(full_x_temp, full_y_mass, color='#ECF0F1', linewidth=3, label=\"Full Plot from data\")\n",
    "\n",
    "#fit function for Line 1. Need to manually add the slope(m1) at this time.\n",
    "f = lambda x: -0.00319667*x + b1\n",
    "# x values of line to plot\n",
    "x = np.array([line1Min, line1Max])\n",
    "# plot fit\n",
    "plt.plot(x,f(x),lw=3, c=\"k\",label=\"Line calculated from regression\")\n",
    "\n",
    "# Plot Line 1 from data\n",
    "plt.plot(x1_temp, y1_mass, color='blue', linewidth=3, label=\"Plot line 1 from data\")\n",
    "\n",
    "#fit function for Line 2. Need to manually add the slope (m2) at this time.\n",
    "f = lambda x: -0.02332203*x + b2\n",
    "# x values of line to plot\n",
    "x = np.array([line2Min, line2Max])\n",
    "# plot fit\n",
    "plt.plot(x,f(x),lw=3, c=\"k\")\n",
    "\n",
    "# Plot Line 2 from data and slope/intercept\n",
    "plt.plot(x2_temp, y2_mass, color='red', linewidth=3, label=\"Plot line 2 from data\")\n",
    "\n",
    "#fit function for Line 3. Need to manually add the slope (m3) at this time.\n",
    "f = lambda x: -0.00553516*x + b3\n",
    "# x values of line to plot\n",
    "x = np.array([line3Min, line3Max])\n",
    "# plot fit\n",
    "plt.plot(x,f(x),lw=3, c=\"k\")\n",
    "\n",
    "# Plot Line 3 from data and slope/intercept\n",
    "plt.plot(x3_temp, y3_mass, color='yellow', linewidth=3, label=\"Plot line 3 from data\")\n",
    "\n",
    "#plot the intercepts\n",
    "\n",
    "plt.plot(x_temp_i, y_mass_i, color='orange', marker = \"o\", label=\"Intercepts\", markersize=5)\n",
    "plt.plot(x_temp_f, y_mass_f, color='orange', marker = \"o\", markersize=5)\n",
    "\n",
    "#plot the intercepts nearest neighbor\n",
    "\n",
    "plt.plot(real_x_temp_i, real_y_mass_i, color='green', marker = \"o\", label=\"Intercept nearest neighbor\", markersize=5)\n",
    "plt.plot(real_x_temp_f, real_y_mass_f, color='green', marker = \"o\", markersize=5)\n",
    "\n",
    "fig4.savefig('lineplot_all' + MMA_Percent_String + TCE_Percent_String + '.jpg')\n",
    "\n",
    "plt.legend(bbox_to_anchor=(0, -0.25, 1, 0), loc=2, ncol=2, mode=\"expand\", borderaxespad=0)\n",
    "\n",
    "#plt.legend()\n",
    "plt.show()\n",
    "\n"
   ]
  },
  {
   "cell_type": "code",
   "execution_count": 75,
   "metadata": {},
   "outputs": [
    {
     "name": "stdout",
     "output_type": "stream",
     "text": [
      "   MMApercent  TCEpercent  Run  Mass_i_mg  Mass_f_mg     diff     ratio  \\\n",
      "0        60.0        40.0  1.0   10.03291    7.78118 -2.25173 -0.037529   \n",
      "\n",
      "   startingMass  \n",
      "0           0.0  \n"
     ]
    },
    {
     "ename": "PermissionError",
     "evalue": "[Errno 13] Permission denied: 'C:\\\\Users\\\\dpery\\\\Documents\\\\research\\\\MMA_TCE_Polymer\\\\DSC_Data\\\\csvs\\\\MMA_TCE_Analysis.csv'",
     "output_type": "error",
     "traceback": [
      "\u001b[1;31m---------------------------------------------------------------------------\u001b[0m",
      "\u001b[1;31mPermissionError\u001b[0m                           Traceback (most recent call last)",
      "\u001b[1;32m<ipython-input-75-f2ab996803db>\u001b[0m in \u001b[0;36m<module>\u001b[1;34m()\u001b[0m\n\u001b[0;32m      9\u001b[0m \u001b[1;31m#MMA_TCE_df.to_csv(r'C:\\Users\\dpery\\Documents\\research\\MMA_TCE_Polymer\\DSC_Data\\csvs\\MMA_TCE_Analysis.csv')\u001b[0m\u001b[1;33m\u001b[0m\u001b[1;33m\u001b[0m\u001b[0m\n\u001b[0;32m     10\u001b[0m \u001b[1;31m#On the first dataset, set header = True, on subsequent, set header = False\u001b[0m\u001b[1;33m\u001b[0m\u001b[1;33m\u001b[0m\u001b[0m\n\u001b[1;32m---> 11\u001b[1;33m \u001b[1;32mwith\u001b[0m \u001b[0mopen\u001b[0m\u001b[1;33m(\u001b[0m\u001b[1;34mr'C:\\Users\\dpery\\Documents\\research\\MMA_TCE_Polymer\\DSC_Data\\csvs\\MMA_TCE_Analysis.csv'\u001b[0m\u001b[1;33m,\u001b[0m \u001b[1;34m'a'\u001b[0m\u001b[1;33m)\u001b[0m \u001b[1;32mas\u001b[0m \u001b[0mf\u001b[0m\u001b[1;33m:\u001b[0m\u001b[1;33m\u001b[0m\u001b[0m\n\u001b[0m\u001b[0;32m     12\u001b[0m     \u001b[0mMMA_TCE_df\u001b[0m\u001b[1;33m.\u001b[0m\u001b[0mto_csv\u001b[0m\u001b[1;33m(\u001b[0m\u001b[0mf\u001b[0m\u001b[1;33m,\u001b[0m \u001b[0mheader\u001b[0m\u001b[1;33m=\u001b[0m\u001b[1;32mFalse\u001b[0m\u001b[1;33m)\u001b[0m\u001b[1;33m\u001b[0m\u001b[0m\n",
      "\u001b[1;31mPermissionError\u001b[0m: [Errno 13] Permission denied: 'C:\\\\Users\\\\dpery\\\\Documents\\\\research\\\\MMA_TCE_Polymer\\\\DSC_Data\\\\csvs\\\\MMA_TCE_Analysis.csv'"
     ]
    }
   ],
   "source": [
    "diff=(real_y_mass_i - real_y_mass_f)\n",
    "#set MMA%, TCE% at top\n",
    "#MMA_Mass_Percent = 46.53465346534652 Add to top\n",
    "rateOfMassLoss = diff/real_y_mass_f*100\n",
    "rateOfMassLossOverPercentMMAbyMass = rateOfMassLoss/MMA_Mass_Percent*100\n",
    "data = [[MMApercent, TCEpercent, MMA_Mass_Percent, run, startingMass, real_y_mass_i, real_y_mass_f, diff, rateOfMassLoss, rateOfMassLossOverPercentMMAbyMass]]\n",
    "MMA_TCE_df = pd.DataFrame(data,columns=['MMApercent','TCEpercent', \"MMA_Mass_Percent\", \"Run\", \"startingMass\", \"Mass_i_mg\", \"Mass_f_mg\", \"diff\", \"rateOfMassLoss\", \"rateOfMassLossOverPercentMMAbyMass\"],dtype=float)\n",
    "print (MMA_TCE_df)\n",
    "#Create a csv file on the first run. Only run this once.\n",
    "#MMA_TCE_df.to_csv(r'C:\\Users\\dpery\\Documents\\research\\MMA_TCE_Polymer\\DSC_Data\\csvs\\MMA_TCE_Analysis.csv')\n",
    "#On the first dataset, set header = True, on subsequent, set header = False\n",
    "with open(r'C:\\Users\\dpery\\Documents\\research\\MMA_TCE_Polymer\\DSC_Data\\csvs\\MMA_TCE_Analysis.csv', 'a') as f:\n",
    "    MMA_TCE_df.to_csv(f, header=False)"
   ]
  },
  {
   "cell_type": "code",
   "execution_count": null,
   "metadata": {},
   "outputs": [],
   "source": []
  }
 ],
 "metadata": {
  "kernelspec": {
   "display_name": "Python 3",
   "language": "python",
   "name": "python3"
  },
  "language_info": {
   "codemirror_mode": {
    "name": "ipython",
    "version": 3
   },
   "file_extension": ".py",
   "mimetype": "text/x-python",
   "name": "python",
   "nbconvert_exporter": "python",
   "pygments_lexer": "ipython3",
   "version": "3.7.0"
  }
 },
 "nbformat": 4,
 "nbformat_minor": 2
}
