{
 "cells": [
  {
   "cell_type": "markdown",
   "metadata": {},
   "source": [
    "<p style=\"font-family: Arial; font-size:1.25em;color:#2462C0; font-style:bold\">\n",
    "Import the libraries we need</p>"
   ]
  },
  {
   "cell_type": "code",
   "execution_count": 36,
   "metadata": {},
   "outputs": [],
   "source": [
    "import pandas as pd\n",
    "import numpy as np\n",
    "import matplotlib.pyplot as plt\n",
    "from sklearn.linear_model import LinearRegression\n",
    "import csv"
   ]
  },
  {
   "cell_type": "markdown",
   "metadata": {},
   "source": [
    "<p style=\"font-family: Arial; font-size:1.25em;color:#2462C0; font-style:bold\">\n",
    "Set the Variables</p>"
   ]
  },
  {
   "cell_type": "code",
   "execution_count": 37,
   "metadata": {},
   "outputs": [],
   "source": [
    "csvPath = r'C:\\Users\\dpery\\Documents\\research\\MMA_TCE_Polymer\\DSC_Data\\csvs\\csvs_edited\\MMA_70_TTE_30_film_DCM_solvent_Run_1.csv'\n",
    "line1Min = 70\n",
    "line1Max = 95\n",
    "line2Min = 150\n",
    "line2Max = 180\n",
    "line3Min = 225\n",
    "line3Max = 240\n",
    "MMApercent=70\n",
    "TCEpercent=30\n",
    "run = \"001\"\n",
    "MMA_Mass_Percent = 57.51748251748251\n",
    "startingMass = 0\n",
    "MMA_Percent_String = \"70\"\n",
    "TCE_Percent_String = \"30\"\n",
    "\n",
    "\n"
   ]
  },
  {
   "cell_type": "markdown",
   "metadata": {},
   "source": [
    "<p style=\"font-family: Arial; font-size:1.25em;color:#2462C0; font-style:bold\">\n",
    "Read the csv file. We see here that fullData is assigned the DataFrame type. Let's view the top of it with head.</p>"
   ]
  },
  {
   "cell_type": "code",
   "execution_count": 38,
   "metadata": {},
   "outputs": [
    {
     "name": "stdout",
     "output_type": "stream",
     "text": [
      "<class 'pandas.core.frame.DataFrame'>\n"
     ]
    },
    {
     "data": {
      "text/html": [
       "<div>\n",
       "<style scoped>\n",
       "    .dataframe tbody tr th:only-of-type {\n",
       "        vertical-align: middle;\n",
       "    }\n",
       "\n",
       "    .dataframe tbody tr th {\n",
       "        vertical-align: top;\n",
       "    }\n",
       "\n",
       "    .dataframe thead th {\n",
       "        text-align: right;\n",
       "    }\n",
       "</style>\n",
       "<table border=\"1\" class=\"dataframe\">\n",
       "  <thead>\n",
       "    <tr style=\"text-align: right;\">\n",
       "      <th></th>\n",
       "      <th>Time_min</th>\n",
       "      <th>Temp_C</th>\n",
       "      <th>Mass_mg</th>\n",
       "      <th>Heat_Flow_mW</th>\n",
       "    </tr>\n",
       "  </thead>\n",
       "  <tbody>\n",
       "    <tr>\n",
       "      <th>0</th>\n",
       "      <td>0.000556</td>\n",
       "      <td>51.57850</td>\n",
       "      <td>28.96233</td>\n",
       "      <td>14.49158</td>\n",
       "    </tr>\n",
       "    <tr>\n",
       "      <th>1</th>\n",
       "      <td>0.004167</td>\n",
       "      <td>51.56534</td>\n",
       "      <td>28.96222</td>\n",
       "      <td>14.48839</td>\n",
       "    </tr>\n",
       "    <tr>\n",
       "      <th>2</th>\n",
       "      <td>0.012500</td>\n",
       "      <td>51.55417</td>\n",
       "      <td>28.96212</td>\n",
       "      <td>14.48474</td>\n",
       "    </tr>\n",
       "    <tr>\n",
       "      <th>3</th>\n",
       "      <td>0.020833</td>\n",
       "      <td>51.54019</td>\n",
       "      <td>28.96198</td>\n",
       "      <td>14.48118</td>\n",
       "    </tr>\n",
       "    <tr>\n",
       "      <th>4</th>\n",
       "      <td>0.029167</td>\n",
       "      <td>51.52832</td>\n",
       "      <td>28.96196</td>\n",
       "      <td>14.47808</td>\n",
       "    </tr>\n",
       "    <tr>\n",
       "      <th>5</th>\n",
       "      <td>0.037500</td>\n",
       "      <td>51.51580</td>\n",
       "      <td>28.96181</td>\n",
       "      <td>14.47516</td>\n",
       "    </tr>\n",
       "    <tr>\n",
       "      <th>6</th>\n",
       "      <td>0.045833</td>\n",
       "      <td>51.51119</td>\n",
       "      <td>28.96180</td>\n",
       "      <td>14.46784</td>\n",
       "    </tr>\n",
       "    <tr>\n",
       "      <th>7</th>\n",
       "      <td>0.054167</td>\n",
       "      <td>51.49908</td>\n",
       "      <td>28.96165</td>\n",
       "      <td>14.46419</td>\n",
       "    </tr>\n",
       "    <tr>\n",
       "      <th>8</th>\n",
       "      <td>0.062500</td>\n",
       "      <td>51.48824</td>\n",
       "      <td>28.96166</td>\n",
       "      <td>14.46100</td>\n",
       "    </tr>\n",
       "    <tr>\n",
       "      <th>9</th>\n",
       "      <td>0.070833</td>\n",
       "      <td>51.47524</td>\n",
       "      <td>28.96152</td>\n",
       "      <td>14.45914</td>\n",
       "    </tr>\n",
       "    <tr>\n",
       "      <th>10</th>\n",
       "      <td>0.079167</td>\n",
       "      <td>51.46116</td>\n",
       "      <td>28.96144</td>\n",
       "      <td>14.45568</td>\n",
       "    </tr>\n",
       "    <tr>\n",
       "      <th>11</th>\n",
       "      <td>0.087500</td>\n",
       "      <td>51.45547</td>\n",
       "      <td>28.96134</td>\n",
       "      <td>14.45162</td>\n",
       "    </tr>\n",
       "    <tr>\n",
       "      <th>12</th>\n",
       "      <td>0.095833</td>\n",
       "      <td>51.44455</td>\n",
       "      <td>28.96118</td>\n",
       "      <td>14.44964</td>\n",
       "    </tr>\n",
       "    <tr>\n",
       "      <th>13</th>\n",
       "      <td>0.104167</td>\n",
       "      <td>51.43200</td>\n",
       "      <td>28.96113</td>\n",
       "      <td>14.44867</td>\n",
       "    </tr>\n",
       "    <tr>\n",
       "      <th>14</th>\n",
       "      <td>0.112500</td>\n",
       "      <td>51.42160</td>\n",
       "      <td>28.96094</td>\n",
       "      <td>14.44698</td>\n",
       "    </tr>\n",
       "  </tbody>\n",
       "</table>\n",
       "</div>"
      ],
      "text/plain": [
       "    Time_min    Temp_C   Mass_mg  Heat_Flow_mW\n",
       "0   0.000556  51.57850  28.96233      14.49158\n",
       "1   0.004167  51.56534  28.96222      14.48839\n",
       "2   0.012500  51.55417  28.96212      14.48474\n",
       "3   0.020833  51.54019  28.96198      14.48118\n",
       "4   0.029167  51.52832  28.96196      14.47808\n",
       "5   0.037500  51.51580  28.96181      14.47516\n",
       "6   0.045833  51.51119  28.96180      14.46784\n",
       "7   0.054167  51.49908  28.96165      14.46419\n",
       "8   0.062500  51.48824  28.96166      14.46100\n",
       "9   0.070833  51.47524  28.96152      14.45914\n",
       "10  0.079167  51.46116  28.96144      14.45568\n",
       "11  0.087500  51.45547  28.96134      14.45162\n",
       "12  0.095833  51.44455  28.96118      14.44964\n",
       "13  0.104167  51.43200  28.96113      14.44867\n",
       "14  0.112500  51.42160  28.96094      14.44698"
      ]
     },
     "execution_count": 38,
     "metadata": {},
     "output_type": "execute_result"
    }
   ],
   "source": [
    "#Be sure to save the file in Unicode UTF-8 format, or specify the format if you are getting an error here.\n",
    "fullData = pd.read_csv(csvPath, sep = ',', encoding=\"utf-8-sig\")\n",
    "print(type(fullData))\n",
    "fullData.head(15)\n",
    "#fullData"
   ]
  },
  {
   "cell_type": "markdown",
   "metadata": {},
   "source": [
    "<p style=\"font-family: Arial; font-size:1.25em;color:#2462C0; font-style:bold\">\n",
    "Column labels can be viewed with the column command.</p>"
   ]
  },
  {
   "cell_type": "code",
   "execution_count": 39,
   "metadata": {},
   "outputs": [
    {
     "data": {
      "text/plain": [
       "Index(['Time_min', 'Temp_C', 'Mass_mg', 'Heat_Flow_mW'], dtype='object')"
      ]
     },
     "execution_count": 39,
     "metadata": {},
     "output_type": "execute_result"
    }
   ],
   "source": [
    "fullData.columns"
   ]
  },
  {
   "cell_type": "markdown",
   "metadata": {},
   "source": [
    "<p style=\"font-family: Arial; font-size:1.25em;color:#2462C0; font-style:bold\">\n",
    "Observe that the index is automatically assigned from 0 to the end. Here we have 1650 data points.</p>"
   ]
  },
  {
   "cell_type": "code",
   "execution_count": 40,
   "metadata": {},
   "outputs": [
    {
     "data": {
      "text/plain": [
       "RangeIndex(start=0, stop=1650, step=1)"
      ]
     },
     "execution_count": 40,
     "metadata": {},
     "output_type": "execute_result"
    }
   ],
   "source": [
    "fullData.index\n"
   ]
  },
  {
   "cell_type": "markdown",
   "metadata": {},
   "source": [
    "<p style=\"font-family: Arial; font-size:1.25em;color:#2462C0; font-style:bold\">\n",
    "Begin assignment of data for Regression of Line1</p>"
   ]
  },
  {
   "cell_type": "code",
   "execution_count": 41,
   "metadata": {},
   "outputs": [
    {
     "data": {
      "text/plain": [
       "(138, 4)"
      ]
     },
     "execution_count": 41,
     "metadata": {},
     "output_type": "execute_result"
    }
   ],
   "source": [
    "line1Mask = (line1Min < fullData['Temp_C']) & (fullData['Temp_C'] < line1Max )\n",
    "line1 = fullData[line1Mask]\n",
    "line1.shape\n",
    "#line1"
   ]
  },
  {
   "cell_type": "code",
   "execution_count": 42,
   "metadata": {},
   "outputs": [
    {
     "data": {
      "text/plain": [
       "Index(['Time_min', 'Temp_C', 'Mass_mg', 'Heat_Flow_mW'], dtype='object')"
      ]
     },
     "execution_count": 42,
     "metadata": {},
     "output_type": "execute_result"
    }
   ],
   "source": [
    "line1.columns"
   ]
  },
  {
   "cell_type": "code",
   "execution_count": 43,
   "metadata": {},
   "outputs": [],
   "source": [
    "# Create a mask for the temp and mass to apply to the dataset to select the column\n",
    "x_temp_col = ['Temp_C']\n",
    "y_mass_col = ['Mass_mg']"
   ]
  },
  {
   "cell_type": "code",
   "execution_count": 44,
   "metadata": {},
   "outputs": [],
   "source": [
    "# Apply the mask for line 1 X\n",
    "x1_temp = line1[x_temp_col]\n",
    "#x1_temp"
   ]
  },
  {
   "cell_type": "code",
   "execution_count": 45,
   "metadata": {},
   "outputs": [],
   "source": [
    "# Apply the mas for line 1 Y\n",
    "y1_mass = line1[y_mass_col]\n",
    "#y1_mass"
   ]
  },
  {
   "cell_type": "markdown",
   "metadata": {},
   "source": [
    "<p style=\"font-family: Arial; font-size:1.25em;color:#2462C0; font-style:bold\">\n",
    "Begin assignment of data for Regression of Line2</p>"
   ]
  },
  {
   "cell_type": "code",
   "execution_count": 46,
   "metadata": {},
   "outputs": [
    {
     "data": {
      "text/plain": [
       "(178, 4)"
      ]
     },
     "execution_count": 46,
     "metadata": {},
     "output_type": "execute_result"
    }
   ],
   "source": [
    "line2Mask = (line2Min < fullData['Temp_C']) & (fullData['Temp_C'] < line2Max)\n",
    "line2 = fullData[line2Mask]\n",
    "line2.shape\n",
    "#line2"
   ]
  },
  {
   "cell_type": "code",
   "execution_count": 47,
   "metadata": {},
   "outputs": [],
   "source": [
    "# Apply the mask for line 2 X\n",
    "x2_temp = line2[x_temp_col]\n",
    "#x2_temp"
   ]
  },
  {
   "cell_type": "code",
   "execution_count": 48,
   "metadata": {},
   "outputs": [],
   "source": [
    "# Apply the mask for line 2 Y\n",
    "y2_mass = line2[y_mass_col]\n",
    "#y2_mass"
   ]
  },
  {
   "cell_type": "markdown",
   "metadata": {},
   "source": [
    "<p style=\"font-family: Arial; font-size:1.25em;color:#2462C0; font-style:bold\">\n",
    "Begin assignment of data for Regression of Line3</p>"
   ]
  },
  {
   "cell_type": "code",
   "execution_count": 49,
   "metadata": {},
   "outputs": [
    {
     "data": {
      "text/plain": [
       "(87, 4)"
      ]
     },
     "execution_count": 49,
     "metadata": {},
     "output_type": "execute_result"
    }
   ],
   "source": [
    "line3Mask = (line3Min < fullData['Temp_C']) & (fullData['Temp_C'] < line3Max)\n",
    "line3 = fullData[line3Mask]\n",
    "line3.shape\n",
    "#line3"
   ]
  },
  {
   "cell_type": "code",
   "execution_count": 50,
   "metadata": {},
   "outputs": [],
   "source": [
    "# Apply the mask for line 3 X\n",
    "x3_temp = line3[x_temp_col]\n",
    "#x3_temp"
   ]
  },
  {
   "cell_type": "code",
   "execution_count": 51,
   "metadata": {},
   "outputs": [],
   "source": [
    "# Apply the mask for line 3 Y\n",
    "y3_mass = line3[y_mass_col]\n",
    "#y3_mass"
   ]
  },
  {
   "cell_type": "markdown",
   "metadata": {},
   "source": [
    "<p style=\"font-family: Arial; font-size:1.25em;color:#2462C0; font-style:bold\">\n",
    "Begin assignment of data for entire graph</p>"
   ]
  },
  {
   "cell_type": "code",
   "execution_count": 52,
   "metadata": {},
   "outputs": [
    {
     "data": {
      "text/plain": [
       "Mass_mg    28.96233\n",
       "Name: 0, dtype: float64"
      ]
     },
     "execution_count": 52,
     "metadata": {},
     "output_type": "execute_result"
    }
   ],
   "source": [
    "full_x_temp = fullData[x_temp_col]\n",
    "#full_x_temp\n",
    "full_y_mass = fullData[y_mass_col]\n",
    "startingMass = full_y_mass.loc[0]\n",
    "startingMass\n",
    "#full_y_mass"
   ]
  },
  {
   "cell_type": "markdown",
   "metadata": {},
   "source": [
    "<p style=\"font-family: Arial; font-size:1.25em;color:#2462C0; font-style:bold\">\n",
    "Linear Regression for Line 1</p>"
   ]
  },
  {
   "cell_type": "code",
   "execution_count": 53,
   "metadata": {},
   "outputs": [
    {
     "name": "stdout",
     "output_type": "stream",
     "text": [
      "Coefficient (m1): \n",
      " [[-0.00450144]]\n",
      "Intercept: \n",
      " [29.2700255]\n"
     ]
    }
   ],
   "source": [
    "regressor1 = LinearRegression()\n",
    "regressor1.fit(x1_temp, y1_mass)\n",
    "regressor1.score(x1_temp, y1_mass)\n",
    "# Print the coefficient(s)\n",
    "print('Coefficient (m1): \\n', regressor1.coef_)\n",
    "#assign the coefficent to m1 for the slope of line 1\n",
    "m1 = regressor1.coef_\n",
    "# Print the intercept\n",
    "print('Intercept: \\n', regressor1.intercept_)\n",
    "#assign the intercept to b1 for the slope of b1\n",
    "b1 = regressor1.intercept_\n"
   ]
  },
  {
   "cell_type": "code",
   "execution_count": 54,
   "metadata": {
    "scrolled": true
   },
   "outputs": [
    {
     "data": {
      "image/png": "[encoded data removed]",
      "text/plain": [
       "<Figure size 432x288 with 1 Axes>"
      ]
     },
     "metadata": {
      "needs_background": "light"
     },
     "output_type": "display_data"
    }
   ],
   "source": [
    "# Plot Line 1 from data and slope/intercept\n",
    "fig1 = plt.figure()\n",
    "plt.plot(x1_temp, y1_mass, color='blue', linewidth=3, label=\"plot line 1 from data\")\n",
    "fig1.suptitle('Line 1 (First Section) ' + MMA_Percent_String + '_' + TCE_Percent_String , fontsize=20)\n",
    "plt.xlabel('temp (degC)', fontsize=18)\n",
    "plt.ylabel('mass (mg)', fontsize=16)\n",
    "\n",
    "#fit function for line 1. Need to manually add the slope at this time\n",
    "f = lambda x: -0.00450144*x + b1\n",
    "# x values of line to plot\n",
    "x = np.array([line1Min, line1Max])\n",
    "# plot fit\n",
    "plt.plot(x,f(x),lw=2.5, c=\"k\",label=\"line calculated from regression\")\n",
    "\n",
    "fig1.savefig('line1plot' + MMA_Percent_String + TCE_Percent_String + '.jpg' )\n",
    "\n",
    "plt.legend()\n",
    "plt.show()"
   ]
  },
  {
   "cell_type": "markdown",
   "metadata": {},
   "source": [
    "<p style=\"font-family: Arial; font-size:1.25em;color:#2462C0; font-style:bold\">\n",
    "Linear Regression for Line 2</p>"
   ]
  },
  {
   "cell_type": "code",
   "execution_count": 55,
   "metadata": {},
   "outputs": [
    {
     "name": "stdout",
     "output_type": "stream",
     "text": [
      "Coefficient (m2): \n",
      " [[-0.07134917]]\n",
      "Intercept: \n",
      " [37.78452634]\n"
     ]
    }
   ],
   "source": [
    "regressor2 = LinearRegression()\n",
    "regressor2.fit(x2_temp, y2_mass)\n",
    "regressor2.score(x2_temp, y2_mass)\n",
    "# Print the coefficient(s)\n",
    "print('Coefficient (m2): \\n', regressor2.coef_)\n",
    "#assign the coefficent to m2 for the slope of line 2\n",
    "m2 = regressor2.coef_\n",
    "# Print the intercept\n",
    "print('Intercept: \\n', regressor2.intercept_)\n",
    "#assign the intercept to b2 for the slope of b2\n",
    "b2 = regressor2.intercept_"
   ]
  },
  {
   "cell_type": "code",
   "execution_count": 56,
   "metadata": {
    "scrolled": true
   },
   "outputs": [
    {
     "data": {
      "image/png": "[encoded data removed]",
      "text/plain": [
       "<Figure size 432x288 with 1 Axes>"
      ]
     },
     "metadata": {
      "needs_background": "light"
     },
     "output_type": "display_data"
    }
   ],
   "source": [
    "# Plot Line 2 from data and slope/intercept\n",
    "fig2 = plt.figure()\n",
    "plt.plot(x2_temp, y2_mass, color='blue', linewidth=3, label=\"plot line 2 from data\")\n",
    "fig2.suptitle('Line 2 (Second Section) ' + MMA_Percent_String + '_' + TCE_Percent_String , fontsize=20)\n",
    "plt.xlabel('temp (degC)', fontsize=18)\n",
    "plt.ylabel('mass (mg)', fontsize=16)\n",
    "\n",
    "#fit function Need to manually add the slope at this time\n",
    "f = lambda x: -0.07134917*x + b2\n",
    "# x values of line to plot\n",
    "x = np.array([line2Min, line2Max])\n",
    "# plot fit\n",
    "plt.plot(x,f(x),lw=2.5, c=\"k\",label=\"line calculated from regression\")\n",
    "\n",
    "fig2.savefig('line2plot'  + MMA_Percent_String + TCE_Percent_String + '.jpg')\n",
    "\n",
    "plt.legend()\n",
    "plt.show()"
   ]
  },
  {
   "cell_type": "markdown",
   "metadata": {},
   "source": [
    "<p style=\"font-family: Arial; font-size:1.25em;color:#2462C0; font-style:bold\">\n",
    "Linear Regression for Line 3</p>"
   ]
  },
  {
   "cell_type": "code",
   "execution_count": 57,
   "metadata": {},
   "outputs": [
    {
     "name": "stdout",
     "output_type": "stream",
     "text": [
      "Coefficient (m3): \n",
      " [[-0.0293922]]\n",
      "Intercept: \n",
      " [29.73119589]\n"
     ]
    }
   ],
   "source": [
    "regressor3 = LinearRegression()\n",
    "regressor3.fit(x3_temp, y3_mass)\n",
    "regressor3.score(x3_temp, y3_mass)\n",
    "# Print the coefficient(s)\n",
    "print('Coefficient (m3): \\n', regressor3.coef_)\n",
    "#assign the coefficent to m2 for the slope of line 2\n",
    "m3 = regressor3.coef_\n",
    "# Print the intercept\n",
    "print('Intercept: \\n', regressor3.intercept_)\n",
    "#assign the intercept to b2 for the slope of b3\n",
    "b3 = regressor3.intercept_"
   ]
  },
  {
   "cell_type": "code",
   "execution_count": 58,
   "metadata": {},
   "outputs": [
    {
     "data": {
      "image/png": "[encoded data removed]",
      "text/plain": [
       "<Figure size 432x288 with 1 Axes>"
      ]
     },
     "metadata": {
      "needs_background": "light"
     },
     "output_type": "display_data"
    }
   ],
   "source": [
    "# Plot Line 3 from data and slope/intercept\n",
    "fig3 = plt.figure()\n",
    "plt.plot(x3_temp, y3_mass, color='blue', linewidth=3, label=\"plot line 2 from data\")\n",
    "fig3.suptitle('Line 3 (Third Section) ' + MMA_Percent_String + '_' + TCE_Percent_String, fontsize=20)\n",
    "plt.xlabel('temp (degC)', fontsize=18)\n",
    "plt.ylabel('mass (mg)', fontsize=16)\n",
    "\n",
    "#fit function Need to manually add the slope at this time\n",
    "f = lambda x: -0.0293922*x + b3\n",
    "# x values of line to plot\n",
    "x = np.array([line3Min, line3Max])\n",
    "# plot fit\n",
    "plt.plot(x,f(x),lw=2.5, c=\"k\",label=\"line calculated from regression\")\n",
    "\n",
    "fig3.savefig('line3plot'+ MMA_Percent_String + TCE_Percent_String + '.jpg')\n",
    "\n",
    "plt.legend()\n",
    "plt.show()"
   ]
  },
  {
   "cell_type": "markdown",
   "metadata": {},
   "source": [
    "<p style=\"font-family: Arial; font-size:1.25em;color:#2462C0; font-style:bold\">\n",
    "Calculate the intercept between lines 1 and 2</p>"
   ]
  },
  {
   "cell_type": "code",
   "execution_count": 59,
   "metadata": {},
   "outputs": [
    {
     "name": "stdout",
     "output_type": "stream",
     "text": [
      "[[127.37158775]] [[28.69666972]]\n"
     ]
    }
   ],
   "source": [
    "y_mass_i = m1*(b2-b1)/(m1-m2) + b1\n",
    "x_temp_i = (b2-b1)/(m1-m2)\n",
    "print(x_temp_i, y_mass_i)"
   ]
  },
  {
   "cell_type": "markdown",
   "metadata": {},
   "source": [
    "<p style=\"font-family: Arial; font-size:1.25em;color:#2462C0; font-style:bold\">\n",
    "Find the nearest initial mass from the array of masses and get the x and y</p>"
   ]
  },
  {
   "cell_type": "code",
   "execution_count": 60,
   "metadata": {},
   "outputs": [
    {
     "name": "stdout",
     "output_type": "stream",
     "text": [
      "106.3828 28.696679999999997\n"
     ]
    }
   ],
   "source": [
    "y_mass_list = full_y_mass[\"Mass_mg\"].tolist()\n",
    "x_temp_list = full_x_temp[\"Temp_C\"].tolist()\n",
    "\n",
    "idx_smallesti = (np.abs(y_mass_list-y_mass_i)).argmin()\n",
    "real_y_mass_i = y_mass_list[idx_smallesti]\n",
    "real_x_temp_i = x_temp_list[idx_smallesti]\n",
    "\n",
    "\n",
    "print(real_x_temp_i, real_y_mass_i)\n"
   ]
  },
  {
   "cell_type": "code",
   "execution_count": 61,
   "metadata": {},
   "outputs": [],
   "source": [
    "#y_mass_list"
   ]
  },
  {
   "cell_type": "markdown",
   "metadata": {},
   "source": [
    "<p style=\"font-family: Arial; font-size:1.25em;color:#2462C0; font-style:bold\">\n",
    "Calculate the intercept between lines 2 and 3</p>"
   ]
  },
  {
   "cell_type": "code",
   "execution_count": 62,
   "metadata": {},
   "outputs": [
    {
     "name": "stdout",
     "output_type": "stream",
     "text": [
      "[[191.94261253]] [[24.08958092]]\n"
     ]
    }
   ],
   "source": [
    "y_mass_f = m2*(b3-b2)/(m2-m3) + b2\n",
    "x_temp_f = (b3-b2)/(m2-m3)\n",
    "print(x_temp_f, y_mass_f)"
   ]
  },
  {
   "cell_type": "markdown",
   "metadata": {},
   "source": [
    "<p style=\"font-family: Arial; font-size:1.25em;color:#2462C0; font-style:bold\">\n",
    "Find the nearest final mass from the array of masses</p>"
   ]
  },
  {
   "cell_type": "code",
   "execution_count": 63,
   "metadata": {},
   "outputs": [
    {
     "name": "stdout",
     "output_type": "stream",
     "text": [
      "198.4174 24.09234\n"
     ]
    }
   ],
   "source": [
    "#y_mass_list = full_y_mass[\"mass(mg)\"].tolist()\n",
    "#x_temp_list = full_x_temp[\"temp(degC)\"].tolist()\n",
    "\n",
    "idx_smallestf = (np.abs(y_mass_list - y_mass_f)).argmin()\n",
    "real_y_mass_f = y_mass_list[idx_smallestf]\n",
    "real_x_temp_f = x_temp_list[idx_smallestf]\n",
    "\n",
    "\n",
    "print(real_x_temp_f, real_y_mass_f)"
   ]
  },
  {
   "cell_type": "code",
   "execution_count": 64,
   "metadata": {},
   "outputs": [
    {
     "name": "stdout",
     "output_type": "stream",
     "text": [
      "[[-0.00450144]] [[-0.07134917]] [[-0.0293922]]\n"
     ]
    }
   ],
   "source": [
    "print(m1, m2, m3)"
   ]
  },
  {
   "cell_type": "markdown",
   "metadata": {},
   "source": [
    "<p style=\"font-family: Arial; font-size:1.25em;color:#2462C0; font-style:bold\">\n",
    "Everything on one plot</p>"
   ]
  },
  {
   "cell_type": "code",
   "execution_count": 65,
   "metadata": {
    "scrolled": true
   },
   "outputs": [
    {
     "data": {
      "image/png": "[encoded data removed]",
      "text/plain": [
       "<Figure size 432x288 with 1 Axes>"
      ]
     },
     "metadata": {
      "needs_background": "light"
     },
     "output_type": "display_data"
    }
   ],
   "source": [
    "fig4 = plt.figure()\n",
    "fig4.suptitle('All Lines and Full Graph '+ MMA_Percent_String + '_' + TCE_Percent_String, fontsize=20)\n",
    "plt.xlabel('temp (degC)', fontsize=18)\n",
    "plt.ylabel('mass (mg)', fontsize=16)\n",
    "\n",
    "#plot the full function\n",
    "plt.plot(full_x_temp, full_y_mass, color='#ECF0F1', linewidth=3, label=\"Full Plot from data\")\n",
    "\n",
    "#fit function for Line 1. Need to manually add the slope(m1) at this time.\n",
    "f = lambda x: -0.00450144*x + b1\n",
    "# x values of line to plot\n",
    "x = np.array([line1Min, line1Max])\n",
    "# plot fit\n",
    "plt.plot(x,f(x),lw=3, c=\"k\",label=\"Line calculated from regression\")\n",
    "\n",
    "# Plot Line 1 from data\n",
    "plt.plot(x1_temp, y1_mass, color='blue', linewidth=3, label=\"Plot line 1 from data\")\n",
    "\n",
    "#fit function for Line 2. Need to manually add the slope (m2) at this time.\n",
    "f = lambda x: -0.07134917*x + b2\n",
    "# x values of line to plot\n",
    "x = np.array([line2Min, line2Max])\n",
    "# plot fit\n",
    "plt.plot(x,f(x),lw=3, c=\"k\")\n",
    "\n",
    "# Plot Line 2 from data and slope/intercept\n",
    "plt.plot(x2_temp, y2_mass, color='red', linewidth=3, label=\"Plot line 2 from data\")\n",
    "\n",
    "#fit function for Line 3. Need to manually add the slope (m3) at this time.\n",
    "f = lambda x: -0.0293922*x + b3\n",
    "# x values of line to plot\n",
    "x = np.array([line3Min, line3Max])\n",
    "# plot fit\n",
    "plt.plot(x,f(x),lw=3, c=\"k\")\n",
    "\n",
    "# Plot Line 3 from data and slope/intercept\n",
    "plt.plot(x3_temp, y3_mass, color='yellow', linewidth=3, label=\"Plot line 3 from data\")\n",
    "\n",
    "#plot the intercepts\n",
    "\n",
    "plt.plot(x_temp_i, y_mass_i, color='orange', marker = \"o\", label=\"Intercepts\", markersize=5)\n",
    "plt.plot(x_temp_f, y_mass_f, color='orange', marker = \"o\", markersize=5)\n",
    "\n",
    "#plot the intercepts nearest neighbor\n",
    "\n",
    "plt.plot(real_x_temp_i, real_y_mass_i, color='green', marker = \"o\", label=\"Intercept nearest neighbor\", markersize=5)\n",
    "plt.plot(real_x_temp_f, real_y_mass_f, color='green', marker = \"o\", markersize=5)\n",
    "\n",
    "fig4.savefig('lineplot_all' + MMA_Percent_String + TCE_Percent_String + '.jpg')\n",
    "\n",
    "plt.legend(bbox_to_anchor=(0, -0.25, 1, 0), loc=2, ncol=2, mode=\"expand\", borderaxespad=0)\n",
    "\n",
    "#plt.legend()\n",
    "plt.show()\n",
    "\n"
   ]
  },
  {
   "cell_type": "code",
   "execution_count": 66,
   "metadata": {},
   "outputs": [
    {
     "name": "stdout",
     "output_type": "stream",
     "text": [
      "   MMApercent  TCEpercent  MMA_Mass_Percent  Run  startingMass  Mass_i_mg  \\\n",
      "0        70.0        30.0         57.517483  1.0      28.96233   28.69668   \n",
      "\n",
      "   Mass_f_mg     diff  rateOfMassLoss  rateOfMassLossOverPercentMMAbyMass  \n",
      "0   24.09234  4.60434        19.11122                           33.226801  \n"
     ]
    }
   ],
   "source": [
    "diff=(real_y_mass_i - real_y_mass_f)\n",
    "#set MMA%, TCE% at top\n",
    "#MMA_Mass_Percent = 57.51748251748251 Add to top\n",
    "rateOfMassLoss = diff/real_y_mass_f*100\n",
    "rateOfMassLossOverPercentMMAbyMass = rateOfMassLoss/MMA_Mass_Percent*100\n",
    "data = [[MMApercent, TCEpercent, MMA_Mass_Percent, run, startingMass, real_y_mass_i, real_y_mass_f, diff, rateOfMassLoss, rateOfMassLossOverPercentMMAbyMass]]\n",
    "MMA_TCE_df = pd.DataFrame(data,columns=['MMApercent','TCEpercent', \"MMA_Mass_Percent\", \"Run\", \"startingMass\", \"Mass_i_mg\", \"Mass_f_mg\", \"diff\", \"rateOfMassLoss\", \"rateOfMassLossOverPercentMMAbyMass\"],dtype=float)\n",
    "print (MMA_TCE_df)\n",
    "#Create a csv file on the first run. Only run this once.\n",
    "#MMA_TCE_df.to_csv(r'C:\\Users\\dpery\\Documents\\research\\MMA_TCE_Polymer\\DSC_Data\\csvs\\MMA_TCE_Analysis.csv')\n",
    "#On the first dataset, set header = True, on subsequent, set header = False\n",
    "with open(r'C:\\Users\\dpery\\Documents\\research\\MMA_TCE_Polymer\\DSC_Data\\csvs\\MMA_TCE_Analysis.csv', 'a') as f:\n",
    "    MMA_TCE_df.to_csv(f, header=False)"
   ]
  },
  {
   "cell_type": "code",
   "execution_count": 69,
   "metadata": {},
   "outputs": [
    {
     "data": {
      "text/html": [
       "<div>\n",
       "<style scoped>\n",
       "    .dataframe tbody tr th:only-of-type {\n",
       "        vertical-align: middle;\n",
       "    }\n",
       "\n",
       "    .dataframe tbody tr th {\n",
       "        vertical-align: top;\n",
       "    }\n",
       "\n",
       "    .dataframe thead th {\n",
       "        text-align: right;\n",
       "    }\n",
       "</style>\n",
       "<table border=\"1\" class=\"dataframe\">\n",
       "  <thead>\n",
       "    <tr style=\"text-align: right;\">\n",
       "      <th></th>\n",
       "      <th>MMApercent</th>\n",
       "      <th>x_temp_i</th>\n",
       "      <th>y_mass_i</th>\n",
       "      <th>real_x_temp_i</th>\n",
       "      <th>real_y_mass_i</th>\n",
       "      <th>x_temp_f</th>\n",
       "      <th>y_mass_f</th>\n",
       "      <th>real_x_temp_f</th>\n",
       "      <th>real_y_mass_f</th>\n",
       "    </tr>\n",
       "  </thead>\n",
       "  <tbody>\n",
       "    <tr>\n",
       "      <th>0</th>\n",
       "      <td>70.0</td>\n",
       "      <td>127.371588</td>\n",
       "      <td>28.69667</td>\n",
       "      <td>106.3828</td>\n",
       "      <td>28.69668</td>\n",
       "      <td>191.942613</td>\n",
       "      <td>24.089581</td>\n",
       "      <td>198.4174</td>\n",
       "      <td>24.09234</td>\n",
       "    </tr>\n",
       "  </tbody>\n",
       "</table>\n",
       "</div>"
      ],
      "text/plain": [
       "   MMApercent    x_temp_i  y_mass_i  real_x_temp_i  real_y_mass_i    x_temp_f  \\\n",
       "0        70.0  127.371588  28.69667       106.3828       28.69668  191.942613   \n",
       "\n",
       "    y_mass_f  real_x_temp_f  real_y_mass_f  \n",
       "0  24.089581       198.4174       24.09234  "
      ]
     },
     "execution_count": 69,
     "metadata": {},
     "output_type": "execute_result"
    }
   ],
   "source": [
    "data2 = [[MMApercent,x_temp_i, y_mass_i, real_x_temp_i, real_y_mass_i, x_temp_f, y_mass_f, real_x_temp_f, real_y_mass_f]]\n",
    "MMA_TCE_intercepts = pd.DataFrame(data2,columns=['MMApercent','x_temp_i', \"y_mass_i\", \"real_x_temp_i\", \"real_y_mass_i\", \"x_temp_f\", \"y_mass_f\", \"real_x_temp_f\", \"real_y_mass_f\"],dtype=float)\n",
    "with open(r'C:\\Users\\dpery\\Documents\\research\\MMA_TCE_Polymer\\DSC_Data\\csvs\\MMA_TCE_Intercepts.csv', 'a') as f:\n",
    "    MMA_TCE_intercepts.to_csv(f, header=False)\n",
    "\n",
    "MMA_TCE_intercepts"
   ]
  },
  {
   "cell_type": "code",
   "execution_count": null,
   "metadata": {},
   "outputs": [],
   "source": []
  }
 ],
 "metadata": {
  "kernelspec": {
   "display_name": "Python 3",
   "language": "python",
   "name": "python3"
  },
  "language_info": {
   "codemirror_mode": {
    "name": "ipython",
    "version": 3
   },
   "file_extension": ".py",
   "mimetype": "text/x-python",
   "name": "python",
   "nbconvert_exporter": "python",
   "pygments_lexer": "ipython3",
   "version": "3.7.0"
  }
 },
 "nbformat": 4,
 "nbformat_minor": 2
}
