{
 "cells": [
  {
   "cell_type": "code",
   "execution_count": null,
   "metadata": {},
   "outputs": [],
   "source": []
  },
  {
   "cell_type": "code",
   "execution_count": 6,
   "metadata": {},
   "outputs": [
    {
     "name": "stdout",
     "output_type": "stream",
     "text": [
      "46.53465346534652\n"
     ]
    }
   ],
   "source": [
    "volMMA = 0.6 #vol MMA in mL\n",
    "volTCE = 0.4 #vol TCE in mL\n",
    "gramsMMA = volMMA*.940\n",
    "gramsTCE = volTCE*1.62\n",
    "percentMMAbyMass = gramsMMA/(gramsMMA+gramsTCE)*100\n",
    "print(percentMMAbyMass)\n"
   ]
  },
  {
   "cell_type": "code",
   "execution_count": 7,
   "metadata": {},
   "outputs": [
    {
     "name": "stdout",
     "output_type": "stream",
     "text": [
      "57.51748251748251\n"
     ]
    }
   ],
   "source": [
    "volMMA = 0.7 #vol MMA in mL\n",
    "volTCE = 0.3 #vol TCE in mL\n",
    "gramsMMA = volMMA*.940\n",
    "gramsTCE = volTCE*1.62\n",
    "percentMMAbyMass = gramsMMA/(gramsMMA+gramsTCE)*100\n",
    "print(percentMMAbyMass)\n"
   ]
  },
  {
   "cell_type": "code",
   "execution_count": 8,
   "metadata": {},
   "outputs": [
    {
     "name": "stdout",
     "output_type": "stream",
     "text": [
      "69.88847583643121\n"
     ]
    }
   ],
   "source": [
    "volMMA = 0.8 #vol MMA in mL\n",
    "volTCE = 0.2 #vol TCE in mL\n",
    "gramsMMA = volMMA*.940\n",
    "gramsTCE = volTCE*1.62\n",
    "percentMMAbyMass = gramsMMA/(gramsMMA+gramsTCE)*100\n",
    "print(percentMMAbyMass)"
   ]
  },
  {
   "cell_type": "code",
   "execution_count": 9,
   "metadata": {},
   "outputs": [
    {
     "name": "stdout",
     "output_type": "stream",
     "text": [
      "83.92857142857143\n"
     ]
    }
   ],
   "source": [
    "volMMA = 0.9 #vol MMA in mL\n",
    "volTCE = 0.1 #vol TCE in mL\n",
    "gramsMMA = volMMA*.940\n",
    "gramsTCE = volTCE*1.62\n",
    "percentMMAbyMass = gramsMMA/(gramsMMA+gramsTCE)*100\n",
    "print(percentMMAbyMass)"
   ]
  },
  {
   "cell_type": "code",
   "execution_count": null,
   "metadata": {},
   "outputs": [],
   "source": []
  },
  {
   "cell_type": "code",
   "execution_count": null,
   "metadata": {},
   "outputs": [],
   "source": []
  }
 ],
 "metadata": {
  "kernelspec": {
   "display_name": "Python 3",
   "language": "python",
   "name": "python3"
  },
  "language_info": {
   "codemirror_mode": {
    "name": "ipython",
    "version": 3
   },
   "file_extension": ".py",
   "mimetype": "text/x-python",
   "name": "python",
   "nbconvert_exporter": "python",
   "pygments_lexer": "ipython3",
   "version": "3.7.0"
  }
 },
 "nbformat": 4,
 "nbformat_minor": 2
}
