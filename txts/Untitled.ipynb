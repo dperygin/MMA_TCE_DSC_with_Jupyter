{
 "cells": [
  {
   "cell_type": "code",
   "execution_count": null,
   "metadata": {},
   "outputs": [],
   "source": [
    "#import csv\n",
    "#import sys\n",
    "\n",
    "txt_file = r\"mytxt.txt\"\n",
    "csv_file = r\"mycsv.csv\"\n",
    "\n",
    "in_txt = open(txt_file, \"r\")\n",
    "out_csv = csv.writer(open(csv_file, 'wb'))\n",
    "\n",
    "file_string = in_txt.read()\n",
    "\n",
    "file_list = file_string.split('\\n')\n",
    "\n",
    "for row in ec_file_list:       \n",
    "    out_csv.writerow(row)"
   ]
  },
  {
   "cell_type": "code",
   "execution_count": null,
   "metadata": {},
   "outputs": [],
   "source": [
    "MMA_TCE_FromTxt = []\n",
    "startCollection = False\n",
    "#write the header\n",
    " open('C:\\Users\\dpery\\Documents\\research\\MMA_TCE_Polymer\\DSC_Data\\csvs\\AddFileNameHere.csv', mode='w') as csv_file:\n",
    "                fieldnames = ['Time_min', 'Temp_C', 'Mass_mg', 'HeatFlow_mW']\n",
    "                writer = csv.DictWriter(csv_file, fieldnames=fieldnames)\n",
    "                writer.writeheader()\n",
    ">>> with open('filename.txt') as file:\n",
    "...     for line in file:\n",
    "            if startCollection:\n",
    "                #add data to array\n",
    "               \n",
    "                writer.writerow({'emp_name': 'John Smith', 'dept': 'Accounting', 'birth_month': 'November'})\n",
    "                \n",
    "...         elif 'StartOfData' in line:\n",
    "...             # Remember this `state` until the next is found\n",
    "...             startCollection = True            \n",
    "                \n",
    "...         else:\n",
    "...             # Do some other crap\n",
    "\n",
    ">>> university_towns[:5]\n",
    "\n",
    "with open('employee_file2.csv', mode='w') as csv_file:\n",
    "    fieldnames = ['emp_name', 'dept', 'birth_month']\n",
    "    writer = csv.DictWriter(csv_file, fieldnames=fieldnames)\n",
    "\n",
    "    writer.writeheader()\n",
    "    writer.writerow({'emp_name': 'John Smith', 'dept': 'Accounting', 'birth_month': 'November'})\n",
    "    writer.writerow({'emp_name': 'Erica Meyers', 'dept': 'IT', 'birth_month': 'March'})"
   ]
  }
 ],
 "metadata": {
  "kernelspec": {
   "display_name": "Python 3",
   "language": "python",
   "name": "python3"
  },
  "language_info": {
   "codemirror_mode": {
    "name": "ipython",
    "version": 3
   },
   "file_extension": ".py",
   "mimetype": "text/x-python",
   "name": "python",
   "nbconvert_exporter": "python",
   "pygments_lexer": "ipython3",
   "version": "3.7.0"
  }
 },
 "nbformat": 4,
 "nbformat_minor": 2
}
